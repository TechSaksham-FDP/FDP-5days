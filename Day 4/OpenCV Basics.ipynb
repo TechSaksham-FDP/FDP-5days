{
 "cells": [
  {
   "cell_type": "code",
   "execution_count": 1,
   "metadata": {
    "colab": {
     "base_uri": "https://localhost:8080/"
    },
    "executionInfo": {
     "elapsed": 6149,
     "status": "ok",
     "timestamp": 1619021647042,
     "user": {
      "displayName": "Sagar Shinde",
      "photoUrl": "",
      "userId": "15876155479888133658"
     },
     "user_tz": -330
    },
    "id": "txdMUAnKuyjv",
    "outputId": "b2ff022d-ca0b-4339-e066-2d73c53ec05e"
   },
   "outputs": [
    {
     "name": "stdout",
     "output_type": "stream",
     "text": [
      "Requirement already satisfied: opencv-python in c:\\users\\administrator\\anaconda3\\lib\\site-packages (4.5.1.48)\n",
      "Requirement already satisfied: numpy>=1.14.5 in c:\\users\\administrator\\anaconda3\\lib\\site-packages (from opencv-python) (1.19.5)\n"
     ]
    }
   ],
   "source": [
    "!pip install opencv-python"
   ]
  },
  {
   "cell_type": "code",
   "execution_count": 2,
   "metadata": {
    "colab": {
     "base_uri": "https://localhost:8080/",
     "height": 35
    },
    "executionInfo": {
     "elapsed": 1534,
     "status": "ok",
     "timestamp": 1619021654664,
     "user": {
      "displayName": "Sagar Shinde",
      "photoUrl": "",
      "userId": "15876155479888133658"
     },
     "user_tz": -330
    },
    "id": "NpWIW2odvC5c",
    "outputId": "133a1ec2-2d6b-411c-9e50-c17658c99a9c"
   },
   "outputs": [
    {
     "data": {
      "text/plain": [
       "'4.5.1'"
      ]
     },
     "execution_count": 2,
     "metadata": {},
     "output_type": "execute_result"
    }
   ],
   "source": [
    "import cv2\n",
    "cv2.__version__\n",
    "# Checking opencv version"
   ]
  },
  {
   "cell_type": "code",
   "execution_count": 3,
   "metadata": {
    "colab": {
     "base_uri": "https://localhost:8080/",
     "height": 136
    },
    "executionInfo": {
     "elapsed": 1392,
     "status": "ok",
     "timestamp": 1619021671478,
     "user": {
      "displayName": "Sagar Shinde",
      "photoUrl": "",
      "userId": "15876155479888133658"
     },
     "user_tz": -330
    },
    "id": "5gIrYO4s_jwv",
    "outputId": "96f7bef4-9be4-48b4-9888-474f6ea40a99"
   },
   "outputs": [
    {
     "data": {
      "text/plain": [
       "<Figure size 640x480 with 1 Axes>"
      ]
     },
     "metadata": {},
     "output_type": "display_data"
    }
   ],
   "source": [
    "import numpy as np\n",
    "import matplotlib.pyplot as plt\n",
    "img = np.array([[1,4,2,3]])\n",
    "plt.imshow(img,cmap='gray') # Plotting the Image\n",
    "#plt.axis('off') \n",
    "plt.show()"
   ]
  },
  {
   "cell_type": "markdown",
   "metadata": {
    "id": "XXpYBUStx137"
   },
   "source": [
    "## **Numpy Array Datatype:**\n",
    "\n",
    "\n",
    "Image pixel values will be in the range of 0-255 \n",
    "\n",
    "uint8 - Range (0 to 255)\n",
    "\n",
    "0 indicates - Black\n",
    "\n",
    "255 indicates -  White"
   ]
  },
  {
   "cell_type": "code",
   "execution_count": null,
   "metadata": {
    "colab": {
     "base_uri": "https://localhost:8080/",
     "height": 263
    },
    "executionInfo": {
     "elapsed": 2228,
     "status": "ok",
     "timestamp": 1619261346351,
     "user": {
      "displayName": "Md Ameer",
      "photoUrl": "",
      "userId": "14836462514122757591"
     },
     "user_tz": -330
    },
    "id": "Plg5TAw8vTao",
    "outputId": "d4dd16ec-ccc9-4f78-8d78-a0cc9f32715a"
   },
   "outputs": [
    {
     "name": "stdout",
     "output_type": "stream",
     "text": [
      "[[0 0 0 ... 0 0 0]\n",
      " [0 0 0 ... 0 0 0]\n",
      " [0 0 0 ... 0 0 0]\n",
      " ...\n",
      " [0 0 0 ... 0 0 0]\n",
      " [0 0 0 ... 0 0 0]\n",
      " [0 0 0 ... 0 0 0]]\n",
      "2\n"
     ]
    }
   ],
   "source": [
    "# Black Image\n",
    "import numpy as np\n",
    "img = np.zeros([100,100],dtype='uint8') # Taking numpy array with 100 * 100 pixels and zeros values\n",
    "\n",
    "print(img)\n",
    "print(img.ndim)\n",
    "cv2.imshow('Output',img)\n",
    "cv2.waitKey(0)\n",
    "cv2.destroyAllWindows()"
   ]
  },
  {
   "cell_type": "code",
   "execution_count": null,
   "metadata": {},
   "outputs": [],
   "source": [
    "# Close Image window by pressing any key from keyboard (esc is preferred) before running next cell else * mark will be there"
   ]
  },
  {
   "cell_type": "code",
   "execution_count": 5,
   "metadata": {
    "colab": {
     "base_uri": "https://localhost:8080/",
     "height": 117
    },
    "executionInfo": {
     "elapsed": 604,
     "status": "ok",
     "timestamp": 1619021684377,
     "user": {
      "displayName": "Sagar Shinde",
      "photoUrl": "",
      "userId": "15876155479888133658"
     },
     "user_tz": -330
    },
    "id": "7ERYvvRc4rCB",
    "outputId": "5e9a619c-e4d7-4ea4-c8ae-cc5de68e3350"
   },
   "outputs": [],
   "source": [
    "# White Image\n",
    "img = np.ones([100,100],dtype='uint8')*255\n",
    "cv2.imshow('Output',img)\n",
    "cv2.waitKey(0)\n",
    "cv2.destroyAllWindows()"
   ]
  },
  {
   "cell_type": "code",
   "execution_count": 11,
   "metadata": {
    "colab": {
     "base_uri": "https://localhost:8080/",
     "height": 117
    },
    "executionInfo": {
     "elapsed": 883,
     "status": "ok",
     "timestamp": 1619021693085,
     "user": {
      "displayName": "Sagar Shinde",
      "photoUrl": "",
      "userId": "15876155479888133658"
     },
     "user_tz": -330
    },
    "id": "nHugptgZ6g0Z",
    "outputId": "e423c9c2-334c-4991-b39a-4aea27a3a9a9"
   },
   "outputs": [],
   "source": [
    "# Gray Image\n",
    "img = np.ones([100,100],dtype='uint8')*127 # Array Broadcasting with a a value of 127 for all the pixels\n",
    "cv2.imshow('Output',img)\n",
    "cv2.waitKey(0)\n",
    "cv2.destroyAllWindows()"
   ]
  },
  {
   "cell_type": "code",
   "execution_count": 5,
   "metadata": {
    "colab": {
     "base_uri": "https://localhost:8080/",
     "height": 117
    },
    "executionInfo": {
     "elapsed": 903,
     "status": "ok",
     "timestamp": 1619021695914,
     "user": {
      "displayName": "Sagar Shinde",
      "photoUrl": "",
      "userId": "15876155479888133658"
     },
     "user_tz": -330
    },
    "id": "SJf6GlvJ6qrF",
    "outputId": "22c8cdb9-eb96-4d50-8a87-adf56f38b94f"
   },
   "outputs": [],
   "source": [
    "# Taking random values\n",
    "x = 127\n",
    "img = np.ones([100,100],dtype='uint8')*x\n",
    "cv2.imshow('Output_Gray',img)\n",
    "cv2.waitKey(0)\n",
    "cv2.destroyAllWindows()"
   ]
  },
  {
   "cell_type": "code",
   "execution_count": 6,
   "metadata": {
    "colab": {
     "base_uri": "https://localhost:8080/",
     "height": 117
    },
    "executionInfo": {
     "elapsed": 829,
     "status": "ok",
     "timestamp": 1619261448307,
     "user": {
      "displayName": "Md Ameer",
      "photoUrl": "",
      "userId": "14836462514122757591"
     },
     "user_tz": -330
    },
    "id": "ToBzNmae6xw8",
    "outputId": "b450b9a9-193b-4313-ecab-88c52ddeeeda"
   },
   "outputs": [],
   "source": [
    "# Colored Image\n",
    "img = np.ones([100,100,3],dtype='uint8')*255\n",
    "img[:,:] = [255,255,0] # BGR = Blue, Green, Red (Opencv follows BGR Method)\n",
    "cv2.imshow('Output',img)\n",
    "cv2.waitKey(0)\n",
    "cv2.destroyAllWindows()"
   ]
  },
  {
   "cell_type": "code",
   "execution_count": 7,
   "metadata": {
    "colab": {
     "base_uri": "https://localhost:8080/",
     "height": 317
    },
    "executionInfo": {
     "elapsed": 933,
     "status": "ok",
     "timestamp": 1619021704920,
     "user": {
      "displayName": "Sagar Shinde",
      "photoUrl": "",
      "userId": "15876155479888133658"
     },
     "user_tz": -330
    },
    "id": "b7mTLgwe7HL9",
    "outputId": "d47f9e31-5202-4494-bebf-ecf22e558424"
   },
   "outputs": [],
   "source": [
    "img = np.ones([300,300,3],dtype='uint8')*255\n",
    "img[0:100,:] = [255,0,0] # Changing the rows values to one specific color\n",
    "img[101:200,:] = [0,255,0]\n",
    "img[201:300,:] = [0,0,255]\n",
    "cv2.imshow('Output',img)\n",
    "cv2.waitKey(0)\n",
    "cv2.destroyAllWindows()\n",
    "\n",
    "# Refer https://www.w3schools.com/colors/colors_rgb.asp for getting RGB values"
   ]
  },
  {
   "cell_type": "code",
   "execution_count": 13,
   "metadata": {
    "colab": {
     "base_uri": "https://localhost:8080/"
    },
    "executionInfo": {
     "elapsed": 1318,
     "status": "ok",
     "timestamp": 1619021712726,
     "user": {
      "displayName": "Sagar Shinde",
      "photoUrl": "",
      "userId": "15876155479888133658"
     },
     "user_tz": -330
    },
    "id": "s5edCvNE7xMu",
    "outputId": "9ed5a0c3-66eb-43bc-b2a4-be6314b7f4d6"
   },
   "outputs": [
    {
     "name": "stdout",
     "output_type": "stream",
     "text": [
      "Requirement already satisfied: wget in c:\\users\\ameen\\anaconda3\\lib\\site-packages (3.2)\n",
      "\n",
      "Saved under demo.jpg\n"
     ]
    }
   ],
   "source": [
    "!pip install wget\n",
    "!python -m wget https://www.ciobulletin.com/assets/home_image/ciobulletin-microsoft-sap-partnership-announcement.jpg -o demo.jpg"
   ]
  },
  {
   "cell_type": "code",
   "execution_count": 15,
   "metadata": {
    "colab": {
     "base_uri": "https://localhost:8080/",
     "height": 548
    },
    "executionInfo": {
     "elapsed": 2200,
     "status": "ok",
     "timestamp": 1619021716703,
     "user": {
      "displayName": "Sagar Shinde",
      "photoUrl": "",
      "userId": "15876155479888133658"
     },
     "user_tz": -330
    },
    "id": "wikxkMgW7bHX",
    "outputId": "6246dbb2-88a1-4722-ef11-190188078b12"
   },
   "outputs": [
    {
     "name": "stdout",
     "output_type": "stream",
     "text": [
      "3\n",
      "(499, 840, 3)\n"
     ]
    }
   ],
   "source": [
    "# How to read an Image\n",
    "img = cv2.imread('demo.jpg')\n",
    "cv2.imshow('Output',img)\n",
    "cv2.waitKey(0)\n",
    "cv2.destroyAllWindows()\n",
    "print(img.ndim) # Taking the Dimension of an Image\n",
    "print(img.shape) # Height*Width*Depth of an Image"
   ]
  },
  {
   "cell_type": "code",
   "execution_count": 17,
   "metadata": {
    "colab": {
     "base_uri": "https://localhost:8080/",
     "height": 267
    },
    "executionInfo": {
     "elapsed": 1522,
     "status": "ok",
     "timestamp": 1619021724313,
     "user": {
      "displayName": "Sagar Shinde",
      "photoUrl": "",
      "userId": "15876155479888133658"
     },
     "user_tz": -330
    },
    "id": "TH2ysF0-AViK",
    "outputId": "cd30e2d0-b791-4aad-a205-ab74f7221c0a"
   },
   "outputs": [],
   "source": [
    "# Resizing it to 200*400 Pixels\n",
    "img = cv2.imread('demo.jpg')\n",
    "img = cv2.resize(img,(420,250)) \n",
    "cv2.imshow('Output',img)\n",
    "cv2.waitKey(0)\n",
    "cv2.destroyAllWindows()"
   ]
  },
  {
   "cell_type": "code",
   "execution_count": 18,
   "metadata": {
    "colab": {
     "base_uri": "https://localhost:8080/"
    },
    "executionInfo": {
     "elapsed": 924,
     "status": "ok",
     "timestamp": 1619021725936,
     "user": {
      "displayName": "Sagar Shinde",
      "photoUrl": "",
      "userId": "15876155479888133658"
     },
     "user_tz": -330
    },
    "id": "6lJlvKm3Ay4T",
    "outputId": "7f82d60b-a644-439f-b4bc-f5a42f39dd49"
   },
   "outputs": [
    {
     "data": {
      "text/plain": [
       "True"
      ]
     },
     "execution_count": 18,
     "metadata": {},
     "output_type": "execute_result"
    }
   ],
   "source": [
    "# Saving a New Image\n",
    "cv2.imwrite('demo_new.jpg',img)"
   ]
  },
  {
   "cell_type": "code",
   "execution_count": 19,
   "metadata": {
    "colab": {
     "base_uri": "https://localhost:8080/",
     "height": 267
    },
    "executionInfo": {
     "elapsed": 1481,
     "status": "ok",
     "timestamp": 1619021733836,
     "user": {
      "displayName": "Sagar Shinde",
      "photoUrl": "",
      "userId": "15876155479888133658"
     },
     "user_tz": -330
    },
    "id": "aus8oWCL9W7S",
    "outputId": "6b34b428-6452-47ed-c9d1-250340779b50"
   },
   "outputs": [],
   "source": [
    "# How to get Grayscale Image from Colored Image?\n",
    "# Method 1: Using COLOR_BGR2GRAY attribute\n",
    "img = cv2.imread('demo_new.jpg')\n",
    "gray = cv2.cvtColor(img, cv2.COLOR_BGR2GRAY)\n",
    "cv2.imshow('Gray',gray)\n",
    "cv2.waitKey(0)\n",
    "cv2.destroyAllWindows()"
   ]
  },
  {
   "cell_type": "code",
   "execution_count": 20,
   "metadata": {
    "colab": {
     "base_uri": "https://localhost:8080/",
     "height": 267
    },
    "executionInfo": {
     "elapsed": 1011,
     "status": "ok",
     "timestamp": 1619021736103,
     "user": {
      "displayName": "Sagar Shinde",
      "photoUrl": "",
      "userId": "15876155479888133658"
     },
     "user_tz": -330
    },
    "id": "avWhA7U492dj",
    "outputId": "11c91937-3de4-4536-b72e-031d9e7fda4e"
   },
   "outputs": [],
   "source": [
    "# Method 2: Using COLOR_BGR2GRAY attribute\n",
    "img = cv2.imread('demo_new.jpg',0)\n",
    "cv2.imshow('Output',img)\n",
    "cv2.waitKey(0)\n",
    "cv2.destroyAllWindows()"
   ]
  },
  {
   "cell_type": "code",
   "execution_count": 21,
   "metadata": {
    "colab": {
     "base_uri": "https://localhost:8080/",
     "height": 267
    },
    "executionInfo": {
     "elapsed": 1079,
     "status": "ok",
     "timestamp": 1619021742475,
     "user": {
      "displayName": "Sagar Shinde",
      "photoUrl": "",
      "userId": "15876155479888133658"
     },
     "user_tz": -330
    },
    "id": "IvoBbCT48by4",
    "outputId": "5a5cdae8-c79e-400a-b808-35a0a2bd2bab"
   },
   "outputs": [],
   "source": [
    "# How to get Binary Image\n",
    "img = cv2.imread('demo_new.jpg',0)\n",
    "_,thresh = cv2.threshold(img,127,255,cv2.THRESH_BINARY)\n",
    "#_,thresh = cv2.threshold(img,127,255,cv2.THRESH_BINARY_INV) # Try this\n",
    "cv2.imshow('Binary',thresh)\n",
    "cv2.waitKey(0)\n",
    "cv2.destroyAllWindows()\n",
    "#https://docs.opencv.org/master/d7/d4d/tutorial_py_thresholding.html"
   ]
  },
  {
   "cell_type": "markdown",
   "metadata": {
    "id": "rYijWBO8-lAG"
   },
   "source": [
    "# **CONVOLUTION MATRIX**"
   ]
  },
  {
   "cell_type": "code",
   "execution_count": 22,
   "metadata": {
    "colab": {
     "base_uri": "https://localhost:8080/",
     "height": 267
    },
    "executionInfo": {
     "elapsed": 1921,
     "status": "ok",
     "timestamp": 1619021755330,
     "user": {
      "displayName": "Sagar Shinde",
      "photoUrl": "",
      "userId": "15876155479888133658"
     },
     "user_tz": -330
    },
    "id": "l4xbkjAd-TYX",
    "outputId": "4e78f02e-e409-4bcb-c29b-5d4aa6238e3a"
   },
   "outputs": [],
   "source": [
    "# Applying Box BLur of Kernel 3*3\n",
    "import numpy as np\n",
    "img = cv2.imread('demo_new.jpg')\n",
    "filter1 = np.array([[1,1,1],\n",
    "                    [1,1,1],\n",
    "                    [1,1,1]])*(1/9)\n",
    "op = cv2.filter2D(img,-1,filter1)\n",
    "cv2.imshow('Output',op)\n",
    "cv2.waitKey(0)\n",
    "cv2.destroyAllWindows()\n",
    "\n",
    "# Reference : https://en.wikipedia.org/wiki/Kernel_(image_processing)"
   ]
  },
  {
   "cell_type": "code",
   "execution_count": 23,
   "metadata": {
    "colab": {
     "base_uri": "https://localhost:8080/",
     "height": 267
    },
    "executionInfo": {
     "elapsed": 2182,
     "status": "ok",
     "timestamp": 1619021772296,
     "user": {
      "displayName": "Sagar Shinde",
      "photoUrl": "",
      "userId": "15876155479888133658"
     },
     "user_tz": -330
    },
    "id": "bvewMfOoBYNI",
    "outputId": "438d169c-105f-4824-ff0c-2da9ae90de7a"
   },
   "outputs": [],
   "source": [
    "# Applying Box BLur of Kernel 5*5\n",
    "import numpy as np\n",
    "img = cv2.imread('demo_new.jpg')\n",
    "filter2 = np.array([[1,4,6,4,1],\n",
    "                    [4,16,24,16,4],\n",
    "                    [6,24,36,26,6],\n",
    "                    [4,16,24,16,4],\n",
    "                    [1,4,6,4,1]])*(1/256)\n",
    "op = cv2.filter2D(img,-1,filter2)\n",
    "cv2.imshow('Output',op)\n",
    "cv2.waitKey(0)\n",
    "cv2.destroyAllWindows()"
   ]
  },
  {
   "cell_type": "code",
   "execution_count": 24,
   "metadata": {
    "colab": {
     "base_uri": "https://localhost:8080/",
     "height": 267
    },
    "executionInfo": {
     "elapsed": 1256,
     "status": "ok",
     "timestamp": 1619021779183,
     "user": {
      "displayName": "Sagar Shinde",
      "photoUrl": "",
      "userId": "15876155479888133658"
     },
     "user_tz": -330
    },
    "id": "Ef3SQuvYBjCj",
    "outputId": "e07545f0-186b-4c9e-9bf2-97413635d21d"
   },
   "outputs": [],
   "source": [
    "# Edge Detection Filter\n",
    "import numpy as np\n",
    "img = cv2.imread('demo_new.jpg',0)\n",
    "filter3 = np.array([[-1,-1,-1],\n",
    "                    [-1,8,-1],\n",
    "                    [-1,-1,-1]])\n",
    "op = cv2.filter2D(img,-1,filter3)\n",
    "cv2.imshow('Output',op)\n",
    "cv2.waitKey(0)\n",
    "cv2.destroyAllWindows()"
   ]
  },
  {
   "cell_type": "code",
   "execution_count": 29,
   "metadata": {
    "colab": {
     "base_uri": "https://localhost:8080/",
     "height": 1000
    },
    "executionInfo": {
     "elapsed": 1683,
     "status": "ok",
     "timestamp": 1619021788993,
     "user": {
      "displayName": "Sagar Shinde",
      "photoUrl": "",
      "userId": "15876155479888133658"
     },
     "user_tz": -330
    },
    "id": "U6KskC3DBtCv",
    "outputId": "34019575-a09d-4ec7-b216-a34248476a68"
   },
   "outputs": [],
   "source": [
    "# Direct Blur Function\n",
    "img = cv2.imread('demo_new.jpg')\n",
    "a1 = cv2.blur(img,(3,3))\n",
    "a2 = cv2.blur(img,(5,5))\n",
    "a3 = cv2.blur(img,(9,9))\n",
    "a4 = cv2.blur(img,(11,11))\n",
    "cv2.imshow('Original',img)\n",
    "cv2.imshow('Blur 1 Image',a1)\n",
    "cv2.imshow('Blur 2 Image',a2)\n",
    "cv2.imshow('Blur 3 Image',a3)\n",
    "cv2.imshow('Blur 4 Image',a4)\n",
    "cv2.waitKey(0)\n",
    "cv2.destroyAllWindows()\n",
    "\n",
    "#(3,3),(5,5),(9,9) are the Kernel sizes\n",
    "# The higher Kernel size value, the more blur output image will be"
   ]
  },
  {
   "cell_type": "code",
   "execution_count": 31,
   "metadata": {
    "colab": {
     "base_uri": "https://localhost:8080/",
     "height": 267
    },
    "executionInfo": {
     "elapsed": 1521,
     "status": "ok",
     "timestamp": 1619021797106,
     "user": {
      "displayName": "Sagar Shinde",
      "photoUrl": "",
      "userId": "15876155479888133658"
     },
     "user_tz": -330
    },
    "id": "NNmDydkeBy_a",
    "outputId": "675cae1e-2b2c-4db4-a98a-51e19d59368c"
   },
   "outputs": [],
   "source": [
    "# Edge Detection using Canny\n",
    "img = cv2.imread('demo_new.jpg')\n",
    "edge = cv2.Canny(img,127,127)\n",
    "cv2.imshow('Edge Detection Image',edge)\n",
    "cv2.waitKey(0)\n",
    "cv2.destroyAllWindows()\n",
    "# Threshold value 1 and Threshold value 2\n",
    "# https://docs.opencv.org/master/da/d22/tutorial_py_canny.html"
   ]
  },
  {
   "cell_type": "code",
   "execution_count": null,
   "metadata": {
    "id": "fMHj_nxmCE8g"
   },
   "outputs": [],
   "source": [
    "# Facial Detection\n"
   ]
  },
  {
   "cell_type": "code",
   "execution_count": 34,
   "metadata": {
    "colab": {
     "base_uri": "https://localhost:8080/"
    },
    "executionInfo": {
     "elapsed": 1821,
     "status": "ok",
     "timestamp": 1619021809321,
     "user": {
      "displayName": "Sagar Shinde",
      "photoUrl": "",
      "userId": "15876155479888133658"
     },
     "user_tz": -330
    },
    "id": "F09aTWoKcXEC",
    "outputId": "88130c81-8f70-4171-f304-5a6621b3ede7"
   },
   "outputs": [
    {
     "name": "stdout",
     "output_type": "stream",
     "text": [
      "\n",
      "Saved under people.jpg\n"
     ]
    }
   ],
   "source": [
    "!python -m wget https://www.eatright.org/-/media/eatrightimages/health/weightloss/yourhealthandyourweight/promote-positive-body-image-kids-839295596.jpg -o people.jpg"
   ]
  },
  {
   "cell_type": "code",
   "execution_count": 35,
   "metadata": {
    "colab": {
     "base_uri": "https://localhost:8080/",
     "height": 467
    },
    "executionInfo": {
     "elapsed": 2460,
     "status": "ok",
     "timestamp": 1619021813415,
     "user": {
      "displayName": "Sagar Shinde",
      "photoUrl": "",
      "userId": "15876155479888133658"
     },
     "user_tz": -330
    },
    "id": "yXn2OvwlcOIu",
    "outputId": "b99f6443-dc0c-4d3b-bdaf-d0c239b382c6"
   },
   "outputs": [],
   "source": [
    "import cv2\n",
    "test_image = cv2.imread('people.jpg')\n",
    "cv2.rectangle(test_image,(50,25),(200,100),(0,255,255),10) # To get rectangle shape in Opencv\n",
    "cv2.imshow('Image',test_image)\n",
    "cv2.waitKey(0)\n",
    "cv2.destroyAllWindows()"
   ]
  },
  {
   "cell_type": "code",
   "execution_count": 36,
   "metadata": {
    "colab": {
     "base_uri": "https://localhost:8080/"
    },
    "executionInfo": {
     "elapsed": 913,
     "status": "ok",
     "timestamp": 1619021821731,
     "user": {
      "displayName": "Sagar Shinde",
      "photoUrl": "",
      "userId": "15876155479888133658"
     },
     "user_tz": -330
    },
    "id": "n-a9qh_aflsV",
    "outputId": "f24966e0-9f45-4a99-a7c3-3f4cae00e1bc"
   },
   "outputs": [
    {
     "name": "stdout",
     "output_type": "stream",
     "text": [
      "\n",
      "Saved under haarcascade_frontalface_default.xml\n"
     ]
    }
   ],
   "source": [
    "!python -m wget https://raw.githubusercontent.com/opencv/opencv/master/data/haarcascades/haarcascade_frontalface_default.xml\n",
    "\n",
    "# Downloading thee xml file of Cascade Classifier from Gituhb repository of opencv"
   ]
  },
  {
   "cell_type": "code",
   "execution_count": 39,
   "metadata": {
    "colab": {
     "base_uri": "https://localhost:8080/"
    },
    "executionInfo": {
     "elapsed": 1730,
     "status": "ok",
     "timestamp": 1619021825764,
     "user": {
      "displayName": "Sagar Shinde",
      "photoUrl": "",
      "userId": "15876155479888133658"
     },
     "user_tz": -330
    },
    "id": "nw_3Vcu2lRoo",
    "outputId": "4ef9dba6-854c-40f6-be22-1e914fa7facf"
   },
   "outputs": [
    {
     "name": "stdout",
     "output_type": "stream",
     "text": [
      "\n",
      "Saved under haarcascade_eye.xml\n"
     ]
    }
   ],
   "source": [
    "!python -m wget https://raw.githubusercontent.com/opencv/opencv/master/data/haarcascades/haarcascade_eye.xml"
   ]
  },
  {
   "cell_type": "code",
   "execution_count": 41,
   "metadata": {
    "colab": {
     "base_uri": "https://localhost:8080/",
     "height": 467
    },
    "executionInfo": {
     "elapsed": 3783,
     "status": "ok",
     "timestamp": 1619021836222,
     "user": {
      "displayName": "Sagar Shinde",
      "photoUrl": "",
      "userId": "15876155479888133658"
     },
     "user_tz": -330
    },
    "id": "A2n81jwUclr4",
    "outputId": "515957d7-f796-4e18-c5c2-c265a38cc07b"
   },
   "outputs": [],
   "source": [
    "test_image = cv2.imread('people.jpg')\n",
    "model_face = cv2.CascadeClassifier('haarcascade_frontalface_default.xml')\n",
    "model_eyes = cv2.CascadeClassifier('haarcascade_eye.xml')\n",
    "demo_face = model_face.detectMultiScale(test_image,1.05,2)\n",
    "demo_eyes = model_eyes.detectMultiScale(test_image,1.05,5)\n",
    "for (x,y,w,h) in demo_face:\n",
    "  cv2.rectangle(test_image,(x,y),(x+w,y+h),(0,255,255),2)\n",
    "for (x,y,w,h) in demo_eyes:\n",
    "  cv2.rectangle(test_image,(x,y),(x+w,y+h),(255,0,0),2)\n",
    "cv2.imshow('Facial Recognition',test_image)\n",
    "cv2.waitKey(0)\n",
    "cv2.destroyAllWindows()"
   ]
  }
 ],
 "metadata": {
  "colab": {
   "collapsed_sections": [],
   "name": "OpenCV Basics.ipynb",
   "provenance": []
  },
  "kernelspec": {
   "display_name": "Python 3",
   "language": "python",
   "name": "python3"
  },
  "language_info": {
   "codemirror_mode": {
    "name": "ipython",
    "version": 3
   },
   "file_extension": ".py",
   "mimetype": "text/x-python",
   "name": "python",
   "nbconvert_exporter": "python",
   "pygments_lexer": "ipython3",
   "version": "3.8.8"
  }
 },
 "nbformat": 4,
 "nbformat_minor": 1
}

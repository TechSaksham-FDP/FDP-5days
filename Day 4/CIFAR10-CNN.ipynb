{
  "nbformat": 4,
  "nbformat_minor": 0,
  "metadata": {
    "colab": {
      "provenance": []
    },
    "kernelspec": {
      "name": "python3",
      "display_name": "Python 3"
    },
    "language_info": {
      "name": "python"
    }
  },
  "cells": [
    {
      "cell_type": "code",
      "metadata": {
        "id": "yPfsY_ss5XjA"
      },
      "source": [
        "import tensorflow as tf\n",
        "from tensorflow.keras import datasets, layers, models\n",
        "import matplotlib.pyplot as plt\n",
        "import numpy as np"
      ],
      "execution_count": null,
      "outputs": []
    },
    {
      "cell_type": "code",
      "metadata": {
        "id": "kSM5Ukdo6k1w",
        "colab": {
          "base_uri": "https://localhost:8080/"
        },
        "outputId": "b4e5e6ee-e5bb-4910-f864-f283c18e3e58"
      },
      "source": [
        "(X_train,y_train),(X_test,y_test) = datasets.cifar10.load_data()"
      ],
      "execution_count": null,
      "outputs": [
        {
          "output_type": "stream",
          "name": "stdout",
          "text": [
            "Downloading data from https://www.cs.toronto.edu/~kriz/cifar-10-python.tar.gz\n",
            "170500096/170498071 [==============================] - 11s 0us/step\n",
            "170508288/170498071 [==============================] - 11s 0us/step\n"
          ]
        }
      ]
    },
    {
      "cell_type": "code",
      "metadata": {
        "id": "SJdxXxkE8rZA"
      },
      "source": [
        "classes = ['airplane','automobile','bird','cat','deer','dog','frog','horse','ship','truck']"
      ],
      "execution_count": null,
      "outputs": []
    },
    {
      "cell_type": "code",
      "source": [
        "X_train[0].shape"
      ],
      "metadata": {
        "colab": {
          "base_uri": "https://localhost:8080/"
        },
        "id": "KEeVw3eiAVoH",
        "outputId": "faa9aa87-bc3e-475a-e93a-ca181c85bb3f"
      },
      "execution_count": null,
      "outputs": [
        {
          "output_type": "execute_result",
          "data": {
            "text/plain": [
              "(32, 32, 3)"
            ]
          },
          "metadata": {},
          "execution_count": 5
        }
      ]
    },
    {
      "cell_type": "code",
      "source": [
        "X_train[0]"
      ],
      "metadata": {
        "colab": {
          "base_uri": "https://localhost:8080/"
        },
        "id": "2ncQakT7AUta",
        "outputId": "e6c0d22c-f301-4d6a-8357-641c9e188d37"
      },
      "execution_count": null,
      "outputs": [
        {
          "output_type": "execute_result",
          "data": {
            "text/plain": [
              "array([[[ 59,  62,  63],\n",
              "        [ 43,  46,  45],\n",
              "        [ 50,  48,  43],\n",
              "        ...,\n",
              "        [158, 132, 108],\n",
              "        [152, 125, 102],\n",
              "        [148, 124, 103]],\n",
              "\n",
              "       [[ 16,  20,  20],\n",
              "        [  0,   0,   0],\n",
              "        [ 18,   8,   0],\n",
              "        ...,\n",
              "        [123,  88,  55],\n",
              "        [119,  83,  50],\n",
              "        [122,  87,  57]],\n",
              "\n",
              "       [[ 25,  24,  21],\n",
              "        [ 16,   7,   0],\n",
              "        [ 49,  27,   8],\n",
              "        ...,\n",
              "        [118,  84,  50],\n",
              "        [120,  84,  50],\n",
              "        [109,  73,  42]],\n",
              "\n",
              "       ...,\n",
              "\n",
              "       [[208, 170,  96],\n",
              "        [201, 153,  34],\n",
              "        [198, 161,  26],\n",
              "        ...,\n",
              "        [160, 133,  70],\n",
              "        [ 56,  31,   7],\n",
              "        [ 53,  34,  20]],\n",
              "\n",
              "       [[180, 139,  96],\n",
              "        [173, 123,  42],\n",
              "        [186, 144,  30],\n",
              "        ...,\n",
              "        [184, 148,  94],\n",
              "        [ 97,  62,  34],\n",
              "        [ 83,  53,  34]],\n",
              "\n",
              "       [[177, 144, 116],\n",
              "        [168, 129,  94],\n",
              "        [179, 142,  87],\n",
              "        ...,\n",
              "        [216, 184, 140],\n",
              "        [151, 118,  84],\n",
              "        [123,  92,  72]]], dtype=uint8)"
            ]
          },
          "metadata": {},
          "execution_count": 6
        }
      ]
    },
    {
      "cell_type": "code",
      "metadata": {
        "colab": {
          "base_uri": "https://localhost:8080/",
          "height": 176
        },
        "id": "Qo4t5QjO7D4b",
        "outputId": "48c26c70-e8b9-4ff6-f48c-8da1e0e33fa2"
      },
      "source": [
        "\n",
        "plt.figure(figsize=(15,2))\n",
        "plt.imshow(X_train[1])"
      ],
      "execution_count": null,
      "outputs": [
        {
          "output_type": "execute_result",
          "data": {
            "text/plain": [
              "<matplotlib.image.AxesImage at 0x7f0278832450>"
            ]
          },
          "metadata": {},
          "execution_count": 4
        },
        {
          "output_type": "display_data",
          "data": {
            "image/png": "[encoded data removed]",
            "text/plain": [
              "<Figure size 1080x144 with 1 Axes>"
            ]
          },
          "metadata": {
            "needs_background": "light"
          }
        }
      ]
    },
    {
      "cell_type": "code",
      "metadata": {
        "colab": {
          "base_uri": "https://localhost:8080/"
        },
        "id": "u-SUZIOk7KzW",
        "outputId": "13dc1a97-bc43-4f2b-e3a7-c499dc9185db"
      },
      "source": [
        "y_train[:10]"
      ],
      "execution_count": null,
      "outputs": [
        {
          "output_type": "execute_result",
          "data": {
            "text/plain": [
              "array([[6],\n",
              "       [9],\n",
              "       [9],\n",
              "       [4],\n",
              "       [1],\n",
              "       [1],\n",
              "       [2],\n",
              "       [7],\n",
              "       [8],\n",
              "       [3]], dtype=uint8)"
            ]
          },
          "metadata": {},
          "execution_count": 5
        }
      ]
    },
    {
      "cell_type": "code",
      "metadata": {
        "id": "weC12EwC8C6b"
      },
      "source": [
        "y_train=y_train.reshape(-1,)\n",
        "y_test = y_test.reshape(-1,)"
      ],
      "execution_count": null,
      "outputs": []
    },
    {
      "cell_type": "code",
      "metadata": {
        "colab": {
          "base_uri": "https://localhost:8080/"
        },
        "id": "0E9zQcuS8JVa",
        "outputId": "0783b7e0-08aa-4746-b13c-468a39998347"
      },
      "source": [
        "y_train[:10]"
      ],
      "execution_count": null,
      "outputs": [
        {
          "output_type": "execute_result",
          "data": {
            "text/plain": [
              "array([6, 9, 9, 4, 1, 1, 2, 7, 8, 3], dtype=uint8)"
            ]
          },
          "metadata": {},
          "execution_count": 7
        }
      ]
    },
    {
      "cell_type": "code",
      "metadata": {
        "id": "KPy-qVaC8IUG"
      },
      "source": [
        "def plot_sam(X,y,index):\n",
        "    plt.figure(figsize=(15,2))\n",
        "    plt.imshow(X[index])\n",
        "    plt.xlabel(classes[y[index]])"
      ],
      "execution_count": null,
      "outputs": []
    },
    {
      "cell_type": "code",
      "metadata": {
        "colab": {
          "base_uri": "https://localhost:8080/",
          "height": 173
        },
        "id": "xtvmimxI8caD",
        "outputId": "e4694dea-cf2e-4b8e-dd1d-ae78c77d4ef0"
      },
      "source": [
        "plot_sam(X_train, y_train,9)"
      ],
      "execution_count": null,
      "outputs": [
        {
          "output_type": "display_data",
          "data": {
            "image/png": "[encoded data removed]",
            "text/plain": [
              "<Figure size 1080x144 with 1 Axes>"
            ]
          },
          "metadata": {
            "needs_background": "light"
          }
        }
      ]
    },
    {
      "cell_type": "code",
      "metadata": {
        "id": "897hFs7u8mzm"
      },
      "source": [
        "#we need to normalize the data\n",
        "X_train = X_train/255\n",
        "X_test = X_test/255"
      ],
      "execution_count": null,
      "outputs": []
    },
    {
      "cell_type": "code",
      "source": [
        "32*32*3"
      ],
      "metadata": {
        "colab": {
          "base_uri": "https://localhost:8080/"
        },
        "id": "oilK7UhuAsGO",
        "outputId": "e48c7315-1e34-4c6b-a9f9-a6cc43ed8eb0"
      },
      "execution_count": null,
      "outputs": [
        {
          "output_type": "execute_result",
          "data": {
            "text/plain": [
              "3072"
            ]
          },
          "metadata": {},
          "execution_count": 7
        }
      ]
    },
    {
      "cell_type": "code",
      "source": [
        "28*28"
      ],
      "metadata": {
        "id": "VkQmh5_3BLUn",
        "outputId": "9cbddf34-a4dc-486a-e8bd-59ec8abfe4c7",
        "colab": {
          "base_uri": "https://localhost:8080/"
        }
      },
      "execution_count": null,
      "outputs": [
        {
          "output_type": "execute_result",
          "data": {
            "text/plain": [
              "784"
            ]
          },
          "metadata": {},
          "execution_count": 9
        }
      ]
    },
    {
      "cell_type": "code",
      "metadata": {
        "id": "14yajsJm9RS_"
      },
      "source": [
        "#Build ANN\n",
        "\n",
        "ann = models.Sequential([\n",
        "      layers.Flatten(input_shape=(32,32,3)),\n",
        "      layers.Dense(3000,activation='relu'),\n",
        "      layers.Dense(1000,activation='relu'),\n",
        "      layers.Dense(10,activation ='sigmoid')])\n",
        "\n",
        "ann.compile(optimizer = 'SGD', loss = 'sparse_categorical_crossentropy', metrics = ['accuracy'])"
      ],
      "execution_count": null,
      "outputs": []
    },
    {
      "cell_type": "code",
      "source": [
        "ann.summary()"
      ],
      "metadata": {
        "colab": {
          "base_uri": "https://localhost:8080/"
        },
        "id": "aIX2HOLz8JUx",
        "outputId": "8bcfd6d2-5c4f-4d79-bad3-012e3a63ac7e"
      },
      "execution_count": null,
      "outputs": [
        {
          "output_type": "stream",
          "name": "stdout",
          "text": [
            "Model: \"sequential\"\n",
            "_________________________________________________________________\n",
            " Layer (type)                Output Shape              Param #   \n",
            "=================================================================\n",
            " flatten (Flatten)           (None, 3072)              0         \n",
            "                                                                 \n",
            " dense (Dense)               (None, 3000)              9219000   \n",
            "                                                                 \n",
            " dense_1 (Dense)             (None, 1000)              3001000   \n",
            "                                                                 \n",
            " dense_2 (Dense)             (None, 10)                10010     \n",
            "                                                                 \n",
            "=================================================================\n",
            "Total params: 12,230,010\n",
            "Trainable params: 12,230,010\n",
            "Non-trainable params: 0\n",
            "_________________________________________________________________\n"
          ]
        }
      ]
    },
    {
      "cell_type": "code",
      "metadata": {
        "colab": {
          "base_uri": "https://localhost:8080/"
        },
        "id": "FWBmvkeQ-eGX",
        "outputId": "cd71851a-b6cd-4aa7-ff3a-fa3023bd532e"
      },
      "source": [
        "ann.fit(X_train, y_train, epochs =5)"
      ],
      "execution_count": null,
      "outputs": [
        {
          "output_type": "stream",
          "name": "stdout",
          "text": [
            "Epoch 1/5\n",
            "1563/1563 [==============================] - 110s 70ms/step - loss: 1.8141 - accuracy: 0.3557\n",
            "Epoch 2/5\n",
            "1563/1563 [==============================] - 98s 63ms/step - loss: 1.6251 - accuracy: 0.4272\n",
            "Epoch 3/5\n",
            "1563/1563 [==============================] - 95s 61ms/step - loss: 1.5427 - accuracy: 0.4548\n",
            "Epoch 4/5\n",
            "1563/1563 [==============================] - 95s 61ms/step - loss: 1.4829 - accuracy: 0.4769\n",
            "Epoch 5/5\n",
            "1563/1563 [==============================] - 96s 62ms/step - loss: 1.4307 - accuracy: 0.4955\n"
          ]
        },
        {
          "output_type": "execute_result",
          "data": {
            "text/plain": [
              "<keras.callbacks.History at 0x7f0274190f10>"
            ]
          },
          "metadata": {},
          "execution_count": 12
        }
      ]
    },
    {
      "cell_type": "code",
      "metadata": {
        "colab": {
          "base_uri": "https://localhost:8080/"
        },
        "id": "ehDkadvw-Xiy",
        "outputId": "57c43c5b-ca0e-4f58-f261-ca2f2e4ebff8"
      },
      "source": [
        "ann.evaluate(X_test,y_test)"
      ],
      "execution_count": null,
      "outputs": [
        {
          "output_type": "stream",
          "name": "stdout",
          "text": [
            "313/313 [==============================] - 7s 23ms/step - loss: 1.4733 - accuracy: 0.4726\n"
          ]
        },
        {
          "output_type": "execute_result",
          "data": {
            "text/plain": [
              "[1.473284363746643, 0.4726000130176544]"
            ]
          },
          "metadata": {},
          "execution_count": 13
        }
      ]
    },
    {
      "cell_type": "code",
      "metadata": {
        "id": "o2MsDqYZ_sd4"
      },
      "source": [
        "y_predict = ann.predict(X_test)\n",
        "y_predict_classes = [np.argmax(element) for element in y_predict]"
      ],
      "execution_count": null,
      "outputs": []
    },
    {
      "cell_type": "code",
      "metadata": {
        "id": "B7mP4IcA_8HT"
      },
      "source": [
        "cm = tf.math.confusion_matrix(labels = y_test, predictions = y_predict_classes)"
      ],
      "execution_count": null,
      "outputs": []
    },
    {
      "cell_type": "code",
      "metadata": {
        "colab": {
          "base_uri": "https://localhost:8080/",
          "height": 329
        },
        "id": "DvjYCeu6AW1w",
        "outputId": "cd026e36-f008-47d0-c5d0-9299e6f934bd"
      },
      "source": [
        "import seaborn as sn\n",
        "plt.figure(figsize = (18,7))\n",
        "sn.heatmap(cm, annot = True, fmt = 'd')\n",
        "plt.xlabel('Predicted')\n",
        "plt.ylabel('Truth')"
      ],
      "execution_count": null,
      "outputs": [
        {
          "output_type": "execute_result",
          "data": {
            "text/plain": [
              "Text(141.0, 0.5, 'Truth')"
            ]
          },
          "metadata": {},
          "execution_count": 16
        },
        {
          "output_type": "display_data",
          "data": {
            "image/png": "[encoded data removed]",
            "text/plain": [
              "<Figure size 1296x504 with 2 Axes>"
            ]
          },
          "metadata": {
            "needs_background": "light"
          }
        }
      ]
    },
    {
      "cell_type": "code",
      "metadata": {
        "id": "T3yLGz8eEVuU"
      },
      "source": [
        "cnn = models.Sequential([\n",
        "      layers.Conv2D(filters=32, kernel_size=(3,3),padding = 'same',activation = 'relu', input_shape=(32,32,3)),\n",
        "      layers.MaxPooling2D((2,2)),\n",
        "      layers.Conv2D(filters=64, kernel_size =(3,3),activation='relu'),\n",
        "      layers.MaxPooling2D((2,2)),\n",
        "      layers.Flatten(),\n",
        "      layers.Dense(64,activation='relu'),\n",
        "      layers.Dense(10,activation='softmax')                   \n",
        "])\n",
        "\n",
        "cnn.compile(optimizer='SGD',loss='sparse_categorical_crossentropy',metrics=['accuracy'])"
      ],
      "execution_count": null,
      "outputs": []
    },
    {
      "cell_type": "code",
      "metadata": {
        "colab": {
          "base_uri": "https://localhost:8080/"
        },
        "id": "OmLP3hK6Fti6",
        "outputId": "fdae614a-0954-4840-b4fe-98e6864f47e9"
      },
      "source": [
        "cnn.fit(X_train,y_train,epochs=10)"
      ],
      "execution_count": null,
      "outputs": [
        {
          "output_type": "stream",
          "name": "stdout",
          "text": [
            "Epoch 1/10\n",
            "1563/1563 [==============================] - 68s 43ms/step - loss: 1.9965 - accuracy: 0.2795\n",
            "Epoch 2/10\n",
            "1563/1563 [==============================] - 67s 43ms/step - loss: 1.5776 - accuracy: 0.4352\n",
            "Epoch 3/10\n",
            "1563/1563 [==============================] - 67s 43ms/step - loss: 1.3981 - accuracy: 0.5010\n",
            "Epoch 4/10\n",
            "1563/1563 [==============================] - 67s 43ms/step - loss: 1.2989 - accuracy: 0.5387\n",
            "Epoch 5/10\n",
            "1563/1563 [==============================] - 67s 43ms/step - loss: 1.2202 - accuracy: 0.5700\n",
            "Epoch 6/10\n",
            "1563/1563 [==============================] - 67s 43ms/step - loss: 1.1561 - accuracy: 0.5925\n",
            "Epoch 7/10\n",
            "1563/1563 [==============================] - 67s 43ms/step - loss: 1.0962 - accuracy: 0.6157\n",
            "Epoch 8/10\n",
            "1563/1563 [==============================] - 69s 44ms/step - loss: 1.0462 - accuracy: 0.6336\n",
            "Epoch 9/10\n",
            "1563/1563 [==============================] - 67s 43ms/step - loss: 1.0001 - accuracy: 0.6491\n",
            "Epoch 10/10\n",
            "1563/1563 [==============================] - 67s 43ms/step - loss: 0.9544 - accuracy: 0.6678\n"
          ]
        },
        {
          "output_type": "execute_result",
          "data": {
            "text/plain": [
              "<keras.callbacks.History at 0x7f026feacf50>"
            ]
          },
          "metadata": {},
          "execution_count": 18
        }
      ]
    },
    {
      "cell_type": "code",
      "metadata": {
        "colab": {
          "base_uri": "https://localhost:8080/"
        },
        "id": "SU7GQhRZF45D",
        "outputId": "e9bcb78b-5352-4199-d658-57602a3c6491"
      },
      "source": [
        "cnn.evaluate(X_test,y_test)"
      ],
      "execution_count": null,
      "outputs": [
        {
          "output_type": "stream",
          "name": "stdout",
          "text": [
            "313/313 [==============================] - 4s 14ms/step - loss: 1.0403 - accuracy: 0.6395\n"
          ]
        },
        {
          "output_type": "execute_result",
          "data": {
            "text/plain": [
              "[1.0402716398239136, 0.6395000219345093]"
            ]
          },
          "metadata": {},
          "execution_count": 19
        }
      ]
    },
    {
      "cell_type": "code",
      "metadata": {
        "colab": {
          "base_uri": "https://localhost:8080/",
          "height": 173
        },
        "id": "8FObGIlnGDZV",
        "outputId": "bb9d634f-a80c-412c-9b43-eed466b74bba"
      },
      "source": [
        "plot_sam(X_test,y_test,1)"
      ],
      "execution_count": null,
      "outputs": [
        {
          "output_type": "display_data",
          "data": {
            "image/png": "[encoded data removed]",
            "text/plain": [
              "<Figure size 1080x144 with 1 Axes>"
            ]
          },
          "metadata": {
            "needs_background": "light"
          }
        }
      ]
    },
    {
      "cell_type": "code",
      "metadata": {
        "colab": {
          "base_uri": "https://localhost:8080/"
        },
        "id": "9FBCtaPRGUNW",
        "outputId": "5d7ed7b1-55fb-4dff-856c-f5bf0af35752"
      },
      "source": [
        "y_test[:10]"
      ],
      "execution_count": null,
      "outputs": [
        {
          "output_type": "execute_result",
          "data": {
            "text/plain": [
              "array([3, 8, 8, 0, 6, 6, 1, 6, 3, 1], dtype=uint8)"
            ]
          },
          "metadata": {},
          "execution_count": 21
        }
      ]
    },
    {
      "cell_type": "code",
      "metadata": {
        "colab": {
          "base_uri": "https://localhost:8080/"
        },
        "id": "7lGk0fBuGHr7",
        "outputId": "5eee7411-cc50-486a-fbb2-a160c8ccf268"
      },
      "source": [
        "y_predict = cnn.predict(X_test)\n",
        "y_predict[:10]"
      ],
      "execution_count": null,
      "outputs": [
        {
          "output_type": "execute_result",
          "data": {
            "text/plain": [
              "array([[2.87068915e-02, 7.60883093e-03, 1.25837445e-01, 4.23779488e-01,\n",
              "        2.74287276e-02, 2.81717360e-01, 2.90304441e-02, 2.14903429e-02,\n",
              "        4.68142852e-02, 7.58620352e-03],\n",
              "       [6.37797639e-02, 2.20662296e-01, 3.74465526e-05, 1.45391068e-05,\n",
              "        8.09012454e-06, 1.03782656e-06, 1.65401889e-05, 4.14666920e-06,\n",
              "        7.03794897e-01, 1.16812373e-02],\n",
              "       [1.62845507e-01, 2.20132798e-01, 2.88131344e-03, 8.84777401e-04,\n",
              "        7.31128559e-04, 1.63065895e-04, 1.05133564e-04, 1.19590340e-03,\n",
              "        5.82773983e-01, 2.82864887e-02],\n",
              "       [8.69461596e-01, 1.09045915e-02, 1.23183466e-02, 7.16100796e-04,\n",
              "        5.23690192e-04, 5.23763883e-05, 5.03431293e-05, 1.73678243e-04,\n",
              "        1.04634717e-01, 1.16446160e-03],\n",
              "       [4.08391352e-05, 1.79506431e-04, 2.79033799e-02, 2.22822011e-01,\n",
              "        2.62773305e-01, 2.93610021e-02, 4.50649112e-01, 2.50586920e-04,\n",
              "        5.79733029e-03, 2.22962844e-04],\n",
              "       [4.22082143e-03, 4.13522776e-03, 3.54017131e-02, 4.04583476e-02,\n",
              "        8.40437505e-03, 3.55437770e-02, 8.48598957e-01, 1.15116937e-02,\n",
              "        2.12687976e-03, 9.59813874e-03],\n",
              "       [2.79444293e-03, 9.65920687e-01, 2.16400207e-04, 2.92796176e-03,\n",
              "        5.85473663e-06, 2.73314817e-03, 1.15609367e-03, 9.04279877e-05,\n",
              "        2.58738932e-04, 2.38962807e-02],\n",
              "       [1.71596542e-01, 8.56462924e-04, 2.27724120e-01, 5.89286387e-02,\n",
              "        2.00553223e-01, 1.38074728e-02, 3.07003677e-01, 1.37918154e-02,\n",
              "        2.54544336e-03, 3.19256284e-03],\n",
              "       [1.13988360e-02, 1.16660970e-03, 7.87254348e-02, 4.84033972e-01,\n",
              "        6.78008869e-02, 2.79551566e-01, 1.82800945e-02, 5.46827205e-02,\n",
              "        2.12119427e-03, 2.23869993e-03],\n",
              "       [9.85153019e-04, 9.81824338e-01, 1.18537617e-04, 3.85134517e-05,\n",
              "        2.34262952e-05, 7.66981429e-06, 1.22165060e-04, 8.84323799e-06,\n",
              "        1.13550026e-03, 1.57357343e-02]], dtype=float32)"
            ]
          },
          "metadata": {},
          "execution_count": 22
        }
      ]
    },
    {
      "cell_type": "code",
      "metadata": {
        "id": "WCkA5fmHGYUr"
      },
      "source": [
        "y_classes = [np.argmax(element) for element in y_predict]"
      ],
      "execution_count": null,
      "outputs": []
    },
    {
      "cell_type": "code",
      "metadata": {
        "colab": {
          "base_uri": "https://localhost:8080/",
          "height": 173
        },
        "id": "AeAVl1lCHp0q",
        "outputId": "9809f78d-e700-484b-9303-bf60ed53a534"
      },
      "source": [
        "plot_sam(X_test,y_test,1000)"
      ],
      "execution_count": null,
      "outputs": [
        {
          "output_type": "display_data",
          "data": {
            "image/png": "[encoded data removed]",
            "text/plain": [
              "<Figure size 1080x144 with 1 Axes>"
            ]
          },
          "metadata": {
            "needs_background": "light"
          }
        }
      ]
    },
    {
      "cell_type": "code",
      "metadata": {
        "colab": {
          "base_uri": "https://localhost:8080/",
          "height": 35
        },
        "id": "Dvo6YrGvHugr",
        "outputId": "2596be9b-32e6-49f1-84e1-7e83a185b98f"
      },
      "source": [
        "classes[y_classes[1000]]"
      ],
      "execution_count": null,
      "outputs": [
        {
          "output_type": "execute_result",
          "data": {
            "application/vnd.google.colaboratory.intrinsic+json": {
              "type": "string"
            },
            "text/plain": [
              "'dog'"
            ]
          },
          "metadata": {},
          "execution_count": 25
        }
      ]
    },
    {
      "cell_type": "code",
      "metadata": {
        "id": "IOOlCVhUH2wZ"
      },
      "source": [
        "cm = tf.math.confusion_matrix(labels = y_test, predictions = y_classes)"
      ],
      "execution_count": null,
      "outputs": []
    },
    {
      "cell_type": "code",
      "metadata": {
        "colab": {
          "base_uri": "https://localhost:8080/",
          "height": 329
        },
        "id": "Y9uOx9nBH3gb",
        "outputId": "811c2da6-b449-4dbd-b12a-c9f6fd59df32"
      },
      "source": [
        "import seaborn as sn\n",
        "plt.figure(figsize = (18,7))\n",
        "sn.heatmap(cm, annot = True, fmt = 'd')\n",
        "plt.xlabel('Predicted')\n",
        "plt.ylabel('Truth')"
      ],
      "execution_count": null,
      "outputs": [
        {
          "output_type": "execute_result",
          "data": {
            "text/plain": [
              "Text(141.0, 0.5, 'Truth')"
            ]
          },
          "metadata": {},
          "execution_count": 27
        },
        {
          "output_type": "display_data",
          "data": {
            "image/png": "[encoded data removed]",
            "text/plain": [
              "<Figure size 1296x504 with 2 Axes>"
            ]
          },
          "metadata": {
            "needs_background": "light"
          }
        }
      ]
    },
    {
      "cell_type": "code",
      "source": [
        "cnn = models.Sequential([\n",
        "      layers.Conv2D(filters=32, kernel_size=(3,3),padding = 'same',activation = 'relu', input_shape=(32,32,3)),\n",
        "      layers.MaxPooling2D((2,2)),\n",
        "      layers.Conv2D(filters=64, kernel_size =(3,3),activation='relu'),\n",
        "      layers.MaxPooling2D((2,2)),\n",
        "      layers.Flatten(),\n",
        "      layers.Dense(64,activation='relu'),\n",
        "      layers.Dense(10,activation='softmax')                   \n",
        "])\n"
      ],
      "metadata": {
        "id": "KDDSUrJLWnyR"
      },
      "execution_count": null,
      "outputs": []
    },
    {
      "cell_type": "code",
      "metadata": {
        "colab": {
          "base_uri": "https://localhost:8080/"
        },
        "id": "Qe6gKKk8Itxr",
        "outputId": "ae658aed-d6c5-4768-d20a-cf32b66fcc26"
      },
      "source": [
        "cnn.summary()"
      ],
      "execution_count": null,
      "outputs": [
        {
          "output_type": "stream",
          "name": "stdout",
          "text": [
            "Model: \"sequential_1\"\n",
            "_________________________________________________________________\n",
            " Layer (type)                Output Shape              Param #   \n",
            "=================================================================\n",
            " conv2d (Conv2D)             (None, 32, 32, 32)        896       \n",
            "                                                                 \n",
            " max_pooling2d (MaxPooling2D  (None, 16, 16, 32)       0         \n",
            " )                                                               \n",
            "                                                                 \n",
            " conv2d_1 (Conv2D)           (None, 14, 14, 64)        18496     \n",
            "                                                                 \n",
            " max_pooling2d_1 (MaxPooling  (None, 7, 7, 64)         0         \n",
            " 2D)                                                             \n",
            "                                                                 \n",
            " flatten_1 (Flatten)         (None, 3136)              0         \n",
            "                                                                 \n",
            " dense_3 (Dense)             (None, 64)                200768    \n",
            "                                                                 \n",
            " dense_4 (Dense)             (None, 10)                650       \n",
            "                                                                 \n",
            "=================================================================\n",
            "Total params: 220,810\n",
            "Trainable params: 220,810\n",
            "Non-trainable params: 0\n",
            "_________________________________________________________________\n"
          ]
        }
      ]
    },
    {
      "cell_type": "markdown",
      "source": [
        "Try to run above code for other CNN composition, adding more layers or changing the number of filters and check if the accuracy is improved. Predict the corresponding results\n",
        "\n"
      ],
      "metadata": {
        "id": "6TvvGptU2oU7"
      }
    },
    {
      "cell_type": "code",
      "source": [],
      "metadata": {
        "id": "yj5vBMUJcGhO"
      },
      "execution_count": null,
      "outputs": []
    }
  ]
}
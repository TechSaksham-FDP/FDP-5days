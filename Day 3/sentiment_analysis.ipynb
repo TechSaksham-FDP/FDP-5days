{
 "cells": [
  {
   "cell_type": "code",
   "execution_count": 1,
   "id": "e0d445a7",
   "metadata": {},
   "outputs": [
    {
     "name": "stdout",
     "output_type": "stream",
     "text": [
      "Collecting afinn\n",
      "  Downloading afinn-0.1.tar.gz (52 kB)\n",
      "\u001b[K     |████████████████████████████████| 52 kB 70 kB/s  eta 0:00:01\n",
      "\u001b[?25hBuilding wheels for collected packages: afinn\n",
      "  Building wheel for afinn (setup.py) ... \u001b[?25ldone\n",
      "\u001b[?25h  Created wheel for afinn: filename=afinn-0.1-py3-none-any.whl size=53449 sha256=4668230d4e7fd4c7976c8a3677fd213221562f7b3290ff788d785e899ce61702\n",
      "  Stored in directory: /home/mona/.cache/pip/wheels/f6/6f/c3/b305c5107a17618f2938a067d5ffcbb556909d82398762089e\n",
      "Successfully built afinn\n",
      "Installing collected packages: afinn\n",
      "Successfully installed afinn-0.1\n"
     ]
    }
   ],
   "source": [
    "##Install Afinn\n",
    "!pip install afinn"
   ]
  },
  {
   "cell_type": "code",
   "execution_count": 2,
   "id": "3cd0a80e",
   "metadata": {},
   "outputs": [],
   "source": [
    "### Importing necessary libraries\n",
    "\n",
    "from afinn import Afinn\n",
    "import pandas as pd"
   ]
  },
  {
   "cell_type": "markdown",
   "id": "7998711c",
   "metadata": {},
   "source": [
    "# Afinn github link\n",
    "\n",
    "https://github.com/fnielsen/afinn/tree/master/afinn/data"
   ]
  },
  {
   "cell_type": "code",
   "execution_count": 3,
   "id": "7a4819cf",
   "metadata": {},
   "outputs": [],
   "source": [
    "## Instantiate afinn (used to create object instance from a class)\n",
    "\n",
    "afn = Afinn()"
   ]
  },
  {
   "cell_type": "code",
   "execution_count": 4,
   "id": "ec985a50",
   "metadata": {},
   "outputs": [],
   "source": [
    "## Creating list sentences\n",
    "\n",
    "news_df = ['i hate flowers', 'he is kind and smart', \n",
    "           'we are kind to good people', 'it is raining today']"
   ]
  },
  {
   "cell_type": "code",
   "execution_count": 5,
   "id": "c02c6d4f",
   "metadata": {},
   "outputs": [],
   "source": [
    "## Compute scores (polarity) and labels\n",
    "\n",
    "scores = [afn.score(article) for article in news_df]\n",
    "sentiment = ['positive' if score > 0 \n",
    "                          else 'negative' if score < 0 \n",
    "                              else 'neutral' \n",
    "                                  for score in scores]"
   ]
  },
  {
   "cell_type": "code",
   "execution_count": 6,
   "id": "479bea25",
   "metadata": {},
   "outputs": [
    {
     "name": "stdout",
     "output_type": "stream",
     "text": [
      "                        topic  scores sentiments\n",
      "0              i hate flowers    -3.0   negative\n",
      "1        he is kind and smart     3.0   positive\n",
      "2  we are kind to good people     5.0   positive\n",
      "3         it is raining today     0.0    neutral\n"
     ]
    }
   ],
   "source": [
    "## Dataframe creation\n",
    "df = pd.DataFrame()\n",
    "df['topic'] =  news_df\n",
    "df['scores'] = scores\n",
    "df['sentiments'] = sentiment\n",
    "print(df)"
   ]
  },
  {
   "cell_type": "code",
   "execution_count": 9,
   "id": "a27b9292",
   "metadata": {},
   "outputs": [
    {
     "data": {
      "text/plain": [
       "-5.0"
      ]
     },
     "execution_count": 9,
     "metadata": {},
     "output_type": "execute_result"
    }
   ],
   "source": [
    "## Evaluating Score Sentiment\n",
    "\n",
    "afn = Afinn(language = 'da')\n",
    "  \n",
    "#assigning 'da' danish to the object variable\n",
    "\n",
    "afn.score('du er den mest modbydelige tæve')"
   ]
  },
  {
   "cell_type": "code",
   "execution_count": 3,
   "id": "8461e1fe",
   "metadata": {},
   "outputs": [
    {
     "data": {
      "text/html": [
       "<div>\n",
       "<style scoped>\n",
       "    .dataframe tbody tr th:only-of-type {\n",
       "        vertical-align: middle;\n",
       "    }\n",
       "\n",
       "    .dataframe tbody tr th {\n",
       "        vertical-align: top;\n",
       "    }\n",
       "\n",
       "    .dataframe thead th {\n",
       "        text-align: right;\n",
       "    }\n",
       "</style>\n",
       "<table border=\"1\" class=\"dataframe\">\n",
       "  <thead>\n",
       "    <tr style=\"text-align: right;\">\n",
       "      <th></th>\n",
       "      <th>term</th>\n",
       "      <th>value</th>\n",
       "    </tr>\n",
       "  </thead>\n",
       "  <tbody>\n",
       "    <tr>\n",
       "      <th>1852</th>\n",
       "      <td>regret</td>\n",
       "      <td>-2</td>\n",
       "    </tr>\n",
       "    <tr>\n",
       "      <th>1285</th>\n",
       "      <td>indifferent</td>\n",
       "      <td>-2</td>\n",
       "    </tr>\n",
       "    <tr>\n",
       "      <th>681</th>\n",
       "      <td>disappoints</td>\n",
       "      <td>-2</td>\n",
       "    </tr>\n",
       "    <tr>\n",
       "      <th>770</th>\n",
       "      <td>doubts</td>\n",
       "      <td>-1</td>\n",
       "    </tr>\n",
       "    <tr>\n",
       "      <th>1644</th>\n",
       "      <td>outmaneuvered</td>\n",
       "      <td>-2</td>\n",
       "    </tr>\n",
       "    <tr>\n",
       "      <th>55</th>\n",
       "      <td>admit</td>\n",
       "      <td>-1</td>\n",
       "    </tr>\n",
       "    <tr>\n",
       "      <th>1133</th>\n",
       "      <td>haha</td>\n",
       "      <td>3</td>\n",
       "    </tr>\n",
       "    <tr>\n",
       "      <th>1160</th>\n",
       "      <td>haunt</td>\n",
       "      <td>-1</td>\n",
       "    </tr>\n",
       "    <tr>\n",
       "      <th>2435</th>\n",
       "      <td>wishing</td>\n",
       "      <td>1</td>\n",
       "    </tr>\n",
       "    <tr>\n",
       "      <th>21</th>\n",
       "      <td>abused</td>\n",
       "      <td>-3</td>\n",
       "    </tr>\n",
       "  </tbody>\n",
       "</table>\n",
       "</div>"
      ],
      "text/plain": [
       "               term  value\n",
       "1852         regret     -2\n",
       "1285    indifferent     -2\n",
       "681     disappoints     -2\n",
       "770          doubts     -1\n",
       "1644  outmaneuvered     -2\n",
       "55            admit     -1\n",
       "1133           haha      3\n",
       "1160          haunt     -1\n",
       "2435        wishing      1\n",
       "21           abused     -3"
      ]
     },
     "execution_count": 3,
     "metadata": {},
     "output_type": "execute_result"
    }
   ],
   "source": [
    "import pandas as pd\n",
    "\n",
    "afinn_wl_url = ('https://raw.githubusercontent.com'\n",
    "                '/fnielsen/afinn/master/afinn/data/AFINN-111.txt')\n",
    "\n",
    "afinn_wl_df = pd.read_csv(afinn_wl_url,\n",
    "                          header=None, # no column names\n",
    "                          sep='\\t',  # tab sepeated\n",
    "                          names=['term', 'value']) #new column names\n",
    "\n",
    "seed = 808 # seed for sample so results are stable\n",
    "afinn_wl_df.sample(10, random_state = seed)"
   ]
  },
  {
   "cell_type": "code",
   "execution_count": 9,
   "id": "cdab8d9c",
   "metadata": {},
   "outputs": [
    {
     "data": {
      "text/plain": [
       "<AxesSubplot:>"
      ]
     },
     "execution_count": 9,
     "metadata": {},
     "output_type": "execute_result"
    },
    {
     "data": {
      "image/png": "[encoded data removed]",
      "text/plain": [
       "<Figure size 432x288 with 1 Axes>"
      ]
     },
     "metadata": {
      "needs_background": "light"
     },
     "output_type": "display_data"
    }
   ],
   "source": [
    "%matplotlib inline\n",
    "\n",
    "afinn_wl_df['value'].hist()"
   ]
  },
  {
   "cell_type": "markdown",
   "id": "e1831ac1",
   "metadata": {},
   "source": [
    "# TextBlob\n",
    "\n",
    "https://github.com/sloria/TextBlob"
   ]
  },
  {
   "cell_type": "code",
   "execution_count": 23,
   "id": "edf571da",
   "metadata": {},
   "outputs": [
    {
     "name": "stdout",
     "output_type": "stream",
     "text": [
      "Collecting textblob\n",
      "  Downloading textblob-0.15.3-py2.py3-none-any.whl (636 kB)\n",
      "\u001b[K     |████████████████████████████████| 636 kB 1.4 MB/s eta 0:00:01\n",
      "\u001b[?25hRequirement already satisfied: nltk>=3.1 in /home/mona/anaconda3/lib/python3.8/site-packages (from textblob) (3.6.1)\n",
      "Requirement already satisfied: tqdm in /home/mona/anaconda3/lib/python3.8/site-packages (from nltk>=3.1->textblob) (4.59.0)\n",
      "Requirement already satisfied: regex in /home/mona/anaconda3/lib/python3.8/site-packages (from nltk>=3.1->textblob) (2021.4.4)\n",
      "Requirement already satisfied: joblib in /home/mona/anaconda3/lib/python3.8/site-packages (from nltk>=3.1->textblob) (1.0.1)\n",
      "Requirement already satisfied: click in /home/mona/anaconda3/lib/python3.8/site-packages (from nltk>=3.1->textblob) (7.1.2)\n",
      "Installing collected packages: textblob\n",
      "Successfully installed textblob-0.15.3\n"
     ]
    }
   ],
   "source": [
    "!pip install textblob"
   ]
  },
  {
   "cell_type": "code",
   "execution_count": 24,
   "id": "77659903",
   "metadata": {},
   "outputs": [],
   "source": [
    "#### importing necessary libraries\n",
    "\n",
    "from textblob import TextBlob"
   ]
  },
  {
   "cell_type": "code",
   "execution_count": 26,
   "id": "583714f7",
   "metadata": {},
   "outputs": [],
   "source": [
    "#### creating list sentences\\\n",
    "\n",
    "\n",
    "xyz = TextBlob(\"xyz is a good company and always value their employees.\")"
   ]
  },
  {
   "cell_type": "code",
   "execution_count": 27,
   "id": "d4011604",
   "metadata": {},
   "outputs": [],
   "source": [
    "# generate textblob sentiment\n",
    "xyz = xyz.sentiment"
   ]
  },
  {
   "cell_type": "code",
   "execution_count": 13,
   "id": "15ee85ce",
   "metadata": {},
   "outputs": [
    {
     "name": "stdout",
     "output_type": "stream",
     "text": [
      "Sentiment(polarity=0.7, subjectivity=0.6000000000000001)\n"
     ]
    }
   ],
   "source": [
    "print(xyz)"
   ]
  },
  {
   "cell_type": "code",
   "execution_count": 14,
   "id": "88d34058",
   "metadata": {},
   "outputs": [],
   "source": [
    "xyz1 = TextBlob(\"XYZ is not a good company and does not value their employees.\")"
   ]
  },
  {
   "cell_type": "code",
   "execution_count": 15,
   "id": "a709cec1",
   "metadata": {},
   "outputs": [
    {
     "name": "stdout",
     "output_type": "stream",
     "text": [
      "-0.35\n"
     ]
    }
   ],
   "source": [
    "print(xyz1.sentiment.polarity)"
   ]
  },
  {
   "cell_type": "code",
   "execution_count": 28,
   "id": "b41b246c",
   "metadata": {},
   "outputs": [
    {
     "data": {
      "text/plain": [
       "Sentiment(polarity=-1.0, subjectivity=1.0)"
      ]
     },
     "execution_count": 28,
     "metadata": {},
     "output_type": "execute_result"
    }
   ],
   "source": [
    "TextBlob(\"I do not like this example at all, it is too boring\").sentiment"
   ]
  },
  {
   "cell_type": "code",
   "execution_count": 29,
   "id": "beb1f86a",
   "metadata": {},
   "outputs": [
    {
     "data": {
      "text/plain": [
       "Sentiment(polarity=0.0, subjectivity=0.0)"
      ]
     },
     "execution_count": 29,
     "metadata": {},
     "output_type": "execute_result"
    }
   ],
   "source": [
    "TextBlob(\"This was a helpful example but I would prefer another one\").sentiment"
   ]
  },
  {
   "cell_type": "code",
   "execution_count": null,
   "id": "3518ffa0",
   "metadata": {},
   "outputs": [],
   "source": []
  },
  {
   "cell_type": "code",
   "execution_count": null,
   "id": "ac6f6dfa",
   "metadata": {},
   "outputs": [],
   "source": []
  },
  {
   "cell_type": "markdown",
   "id": "a338fec6",
   "metadata": {},
   "source": [
    "# Vader\n",
    "\n",
    "https://github.com/cjhutto/vaderSentiment"
   ]
  },
  {
   "cell_type": "code",
   "execution_count": 4,
   "id": "963b7c4b",
   "metadata": {},
   "outputs": [],
   "source": [
    "## importing necessary libraries\n",
    "\n",
    "import nltk\n",
    "from nltk.sentiment.vader import SentimentIntensityAnalyzer"
   ]
  },
  {
   "cell_type": "code",
   "execution_count": 5,
   "id": "97d52266",
   "metadata": {},
   "outputs": [
    {
     "name": "stderr",
     "output_type": "stream",
     "text": [
      "[nltk_data] Downloading package vader_lexicon to\n",
      "[nltk_data]     /home/mona/nltk_data...\n"
     ]
    },
    {
     "data": {
      "text/plain": [
       "True"
      ]
     },
     "execution_count": 5,
     "metadata": {},
     "output_type": "execute_result"
    }
   ],
   "source": [
    "### Validate vader lexicon\n",
    "\n",
    "nltk.download('vader_lexicon')"
   ]
  },
  {
   "cell_type": "code",
   "execution_count": 32,
   "id": "b8c8f896",
   "metadata": {},
   "outputs": [],
   "source": [
    "### Instantiate Vader\n",
    "\n",
    "sentiment = SentimentIntensityAnalyzer()"
   ]
  },
  {
   "cell_type": "markdown",
   "id": "7002fb2d",
   "metadata": {},
   "source": [
    "\n",
    "1)    positive sentiment: compound score >= 0.05\n",
    "2)    neutral sentiment: (compound score > -0.05) and (compound score < 0.05)\n",
    "3)    negative sentiment: compound score <= -0.05\n"
   ]
  },
  {
   "cell_type": "code",
   "execution_count": 19,
   "id": "f02dcb1c",
   "metadata": {},
   "outputs": [
    {
     "data": {
      "text/plain": [
       "{'neg': 0.0, 'neu': 1.0, 'pos': 0.0, 'compound': 0.0}"
      ]
     },
     "execution_count": 19,
     "metadata": {},
     "output_type": "execute_result"
    }
   ],
   "source": [
    "### Evaluating sentiment scores\n",
    "\n",
    "sentiment.polarity_scores(\"This is my car\")"
   ]
  },
  {
   "cell_type": "code",
   "execution_count": 33,
   "id": "94d246d7",
   "metadata": {},
   "outputs": [
    {
     "data": {
      "text/plain": [
       "{'neg': 0.0, 'neu': 0.58, 'pos': 0.42, 'compound': 0.4404}"
      ]
     },
     "execution_count": 33,
     "metadata": {},
     "output_type": "execute_result"
    }
   ],
   "source": [
    "sentiment.polarity_scores(\"The food here is good\")"
   ]
  },
  {
   "cell_type": "code",
   "execution_count": 34,
   "id": "55472782",
   "metadata": {},
   "outputs": [
    {
     "data": {
      "text/plain": [
       "{'neg': 0.0, 'neu': 0.556, 'pos': 0.444, 'compound': 0.4926}"
      ]
     },
     "execution_count": 34,
     "metadata": {},
     "output_type": "execute_result"
    }
   ],
   "source": [
    "#Use of exclamation marks\n",
    "sentiment.polarity_scores(\"The food here is good!\")"
   ]
  },
  {
   "cell_type": "code",
   "execution_count": 35,
   "id": "dfeacf08",
   "metadata": {},
   "outputs": [
    {
     "data": {
      "text/plain": [
       "{'neg': 0.0, 'neu': 0.534, 'pos': 0.466, 'compound': 0.5399}"
      ]
     },
     "execution_count": 35,
     "metadata": {},
     "output_type": "execute_result"
    }
   ],
   "source": [
    "sentiment.polarity_scores(\"The food here is good!!\")"
   ]
  },
  {
   "cell_type": "code",
   "execution_count": 36,
   "id": "e212829f",
   "metadata": {},
   "outputs": [
    {
     "data": {
      "text/plain": [
       "{'neg': 0.0, 'neu': 0.514, 'pos': 0.486, 'compound': 0.5826}"
      ]
     },
     "execution_count": 36,
     "metadata": {},
     "output_type": "execute_result"
    }
   ],
   "source": [
    "sentiment.polarity_scores(\"The food here is good!!!\")"
   ]
  },
  {
   "cell_type": "code",
   "execution_count": 37,
   "id": "123f10ae",
   "metadata": {},
   "outputs": [
    {
     "data": {
      "text/plain": [
       "{'neg': 0.0, 'neu': 0.524, 'pos': 0.476, 'compound': 0.5622}"
      ]
     },
     "execution_count": 37,
     "metadata": {},
     "output_type": "execute_result"
    }
   ],
   "source": [
    "#use of capitalization\n",
    "sentiment.polarity_scores(\"The food here is GOOD\")"
   ]
  },
  {
   "cell_type": "code",
   "execution_count": 42,
   "id": "6b894be1",
   "metadata": {},
   "outputs": [
    {
     "data": {
      "text/plain": [
       "{'neg': 0.0, 'neu': 0.532, 'pos': 0.468, 'compound': 0.659}"
      ]
     },
     "execution_count": 42,
     "metadata": {},
     "output_type": "execute_result"
    }
   ],
   "source": [
    "sentiment.polarity_scores(\"The food here is extremely great\")"
   ]
  },
  {
   "cell_type": "code",
   "execution_count": 39,
   "id": "fdc8794f",
   "metadata": {},
   "outputs": [
    {
     "data": {
      "text/plain": [
       "{'neg': 0.0, 'neu': 0.657, 'pos': 0.343, 'compound': 0.3832}"
      ]
     },
     "execution_count": 39,
     "metadata": {},
     "output_type": "execute_result"
    }
   ],
   "source": [
    "sentiment.polarity_scores(\"The food here is marginally good\")"
   ]
  },
  {
   "cell_type": "code",
   "execution_count": 44,
   "id": "93bf33c0",
   "metadata": {},
   "outputs": [
    {
     "data": {
      "text/plain": [
       "{'neg': 0.323, 'neu': 0.544, 'pos': 0.133, 'compound': -0.5859}"
      ]
     },
     "execution_count": 44,
     "metadata": {},
     "output_type": "execute_result"
    }
   ],
   "source": [
    "# Conjuctions \n",
    "sentiment.polarity_scores(\"The food here is good but the service is horrible\")"
   ]
  },
  {
   "cell_type": "markdown",
   "id": "30a213e0",
   "metadata": {},
   "source": [
    "Emoticons"
   ]
  },
  {
   "cell_type": "code",
   "execution_count": 47,
   "id": "7821ac5e",
   "metadata": {},
   "outputs": [
    {
     "name": "stdout",
     "output_type": "stream",
     "text": [
      "{'neg': 0.0, 'neu': 0.294, 'pos': 0.706, 'compound': 0.8633}\n"
     ]
    }
   ],
   "source": [
    "print(sentiment.polarity_scores(\"Make sure you :) or :D today!\"))"
   ]
  },
  {
   "cell_type": "code",
   "execution_count": 48,
   "id": "9b322bd0",
   "metadata": {},
   "outputs": [
    {
     "name": "stdout",
     "output_type": "stream",
     "text": [
      "{'neg': 0.779, 'neu': 0.221, 'pos': 0.0, 'compound': -0.5461}\n",
      "{'neg': 0.127, 'neu': 0.556, 'pos': 0.317, 'compound': 0.5249}\n"
     ]
    }
   ],
   "source": [
    "#Slangs\n",
    "\n",
    "print(sentiment.polarity_scores(\"Today SUX!\"))\n",
    "print(sentiment.polarity_scores(\"Today only kinda sux! But I'll get by, lol\"))"
   ]
  },
  {
   "cell_type": "code",
   "execution_count": null,
   "id": "0ecce73d",
   "metadata": {},
   "outputs": [],
   "source": []
  }
 ],
 "metadata": {
  "kernelspec": {
   "display_name": "Python 3",
   "language": "python",
   "name": "python3"
  },
  "language_info": {
   "codemirror_mode": {
    "name": "ipython",
    "version": 3
   },
   "file_extension": ".py",
   "mimetype": "text/x-python",
   "name": "python",
   "nbconvert_exporter": "python",
   "pygments_lexer": "ipython3",
   "version": "3.8.8"
  }
 },
 "nbformat": 4,
 "nbformat_minor": 5
}

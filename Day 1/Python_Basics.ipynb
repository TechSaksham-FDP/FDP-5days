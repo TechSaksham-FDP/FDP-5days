{
 "cells": [
  {
   "cell_type": "markdown",
   "metadata": {},
   "source": [
    "## Variables"
   ]
  },
  {
   "cell_type": "code",
   "execution_count": null,
   "metadata": {},
   "outputs": [],
   "source": [
    "roll=127\n",
    "name=\"pavan\"\n",
    "per=77.77\n",
    "print(type(roll))\n",
    "print(type(name))\n",
    "print(type(per))\n",
    "var1=var2=var3=34\n",
    "print(var1)\n",
    "print(var2)\n",
    "print(var3)\n",
    "v1,v2,v3=11,22,33\n",
    "print(v1)\n",
    "print(v2)\n",
    "print(v3)"
   ]
  },
  {
   "cell_type": "code",
   "execution_count": null,
   "metadata": {},
   "outputs": [],
   "source": [
    "# Valid or invalid Variables\n",
    "#  Variable is name given to reserved memory location \n",
    "# to store a value(int, float, complex, bytes, str etc)\n",
    "var1=12    # Valid\n",
    "var76c=56.76  # Valid\n",
    "_var7=99     # Valid\n",
    "1var=45    # invalid\n",
    "var#=\"hello\"  # invalid"
   ]
  },
  {
   "cell_type": "code",
   "execution_count": null,
   "metadata": {},
   "outputs": [],
   "source": [
    "x=\"awesome\"\n",
    "print(\"Python is\",x)\n",
    "x=\"awesome\"\n",
    "print(\"Python is\"+x)\n",
    "print(\"Python is\"+\" \"+x)"
   ]
  },
  {
   "cell_type": "code",
   "execution_count": null,
   "metadata": {},
   "outputs": [],
   "source": [
    "# if both variables are string it will concate\n",
    "str1=\"python is\"\n",
    "str2=\"awesome\"\n",
    "str3=str1+str2\n",
    "print(str3)"
   ]
  },
  {
   "cell_type": "code",
   "execution_count": null,
   "metadata": {},
   "outputs": [],
   "source": [
    "# if both variables are int, it will add\n",
    "n1=23\n",
    "n2=34\n",
    "n3=n1+n2\n",
    "print(n3)"
   ]
  },
  {
   "cell_type": "code",
   "execution_count": null,
   "metadata": {},
   "outputs": [],
   "source": [
    "# if both variables are string it will concate\n",
    "n1=\"2\"\n",
    "n2=\"3\"\n",
    "n3=n1+n2\n",
    "print(n3)"
   ]
  },
  {
   "cell_type": "code",
   "execution_count": null,
   "metadata": {},
   "outputs": [],
   "source": [
    "# + will concate if both varibales are string\n",
    "# + will do addition if both varibales are numbers\n",
    "# if 1 variable is string and 1 variable in number,\n",
    "# TypeError will be generated\n",
    "age=23\n",
    "name=\"amol\"\n",
    "print(type(age))\n",
    "print(type(name))\n",
    "print(name+age)"
   ]
  },
  {
   "cell_type": "code",
   "execution_count": null,
   "metadata": {},
   "outputs": [],
   "source": [
    "# Global variable is created outside all functions \n",
    "# (normally at top)so it will be accessible to all functions\n",
    "\n",
    "# Local Variable -local variable is variable which is created \n",
    "# inside function, it will not be accessed outside the scope\n",
    "#(same function)"
   ]
  },
  {
   "cell_type": "code",
   "execution_count": null,
   "metadata": {},
   "outputs": [],
   "source": [
    "str1=\"awesome\"  # global variable\n",
    "# create function\n",
    "def fun1():\n",
    "    print(\"python is \",str1)\n",
    "fun1()  # function Call"
   ]
  },
  {
   "cell_type": "code",
   "execution_count": null,
   "metadata": {},
   "outputs": [],
   "source": [
    "# Global Variable Scope - Entire Program\n",
    "# local Variable Scope - Inside the function\n",
    "# create function\n",
    "def fun1():\n",
    "    str11=\"awesome\" # Local variable\n",
    "fun1()  # function Call\n",
    "print(\"python is Awesome\",str11)"
   ]
  },
  {
   "cell_type": "code",
   "execution_count": null,
   "metadata": {},
   "outputs": [],
   "source": [
    "# using Global keyword we can make local variable global\n",
    "def fun3():\n",
    "    global str44\n",
    "    str44=\"this is local variable\"\n",
    "fun3()\n",
    "print(str44)"
   ]
  },
  {
   "cell_type": "code",
   "execution_count": null,
   "metadata": {},
   "outputs": [],
   "source": [
    "# we can modify global variable from function also using global kwrd\n",
    "str66=\"hi\"\n",
    "def fun5():\n",
    "    global str66\n",
    "    str66=\"hello\"\n",
    "fun5()\n",
    "print(str66)"
   ]
  },
  {
   "cell_type": "markdown",
   "metadata": {},
   "source": [
    "## Datatypes"
   ]
  },
  {
   "cell_type": "code",
   "execution_count": null,
   "metadata": {},
   "outputs": [],
   "source": [
    "x='this is string'  # string\n",
    "y=20            # int\n",
    "z=34.45     # float\n",
    "a=23+1j     # complex\n",
    "b=[\"apple\",\"banana\",\"grapes\"]   # list\n",
    "c=(\"apple\",\"banana\",\"grapes\")   # tuple\n",
    "d=range(6)                      # range\n",
    "e={name:\"prathamesh\",age:23}    # dict\n",
    "f={\"mango\",\"orange\",\"pineapple\"} # set"
   ]
  },
  {
   "cell_type": "code",
   "execution_count": null,
   "metadata": {},
   "outputs": [],
   "source": [
    "# There is No restriction for variable for its size of data\n",
    "num=737653756784367842658634856883684589769347589748356794754799479479547674979475\n",
    "num"
   ]
  },
  {
   "cell_type": "code",
   "execution_count": null,
   "metadata": {},
   "outputs": [],
   "source": [
    "percentage = 77.94\n",
    "print(type(percentage))\n",
    "print(percentage)\n",
    "\n",
    "nv=int(percentage)\n",
    "print(type(nv))\n",
    "print(nv)\n",
    "\n",
    "anv=float(nv)\n",
    "print(type(anv))\n",
    "print(anv)"
   ]
  },
  {
   "cell_type": "code",
   "execution_count": null,
   "metadata": {},
   "outputs": [],
   "source": [
    "## How to take input from user?\n",
    "## input()- Python 3.x and raw_input()- Python 2.x"
   ]
  },
  {
   "cell_type": "markdown",
   "metadata": {},
   "source": [
    "### Input/Output "
   ]
  },
  {
   "cell_type": "markdown",
   "metadata": {},
   "source": [
    "#### Write a simple Calculator Program using Input / output statements"
   ]
  },
  {
   "cell_type": "code",
   "execution_count": null,
   "metadata": {},
   "outputs": [],
   "source": [
    "print(\"--------------------------------\")\n",
    "print(\"welcome to calculator\")\n",
    "print(\"--------------------------------\")\n",
    "print(\"Enter First no:\",end=\"\")\n",
    "fn=input()\n",
    "sn=input(\"Enter Second no:\")\n",
    "fn=int(fn)\n",
    "sn=int(sn)\n",
    "print(\"\\t1.Add\\t2.Sub\\t3.Mul\\t4.Div\\t5.Modulus\")\n",
    "print(\"Enter the Choice:\")\n",
    "choice=input()\n",
    "choice=int(choice)\n",
    "if(choice==1):\n",
    "    print(\"Addition is =\",fn+sn)\n",
    "elif(choice==2):\n",
    "    print(\"Subtraction is =\",fn-sn)\n",
    "elif(choice==3):\n",
    "    print(\"Multiplication is =\",fn*sn)\n",
    "elif(choice==4):\n",
    "    print(\"Division is =\",fn/sn)\n",
    "elif(choice==5):\n",
    "    print(\"Remainder is =\",fn%sn)\n",
    "else:\n",
    "    print(\"Invalid Choice\")"
   ]
  },
  {
   "cell_type": "code",
   "execution_count": null,
   "metadata": {},
   "outputs": [],
   "source": [
    "# default type of input taken from user is string\n",
    "no=input()\n",
    "type(no)"
   ]
  },
  {
   "cell_type": "code",
   "execution_count": null,
   "metadata": {},
   "outputs": [],
   "source": [
    "x = 35e3\n",
    "y = 12E4\n",
    "z = -87.7e100\n",
    "print(type(x))\n",
    "print(type(y))\n",
    "print(type(z))\n",
    "print(x)\n",
    "print(y)\n",
    "print(z)"
   ]
  },
  {
   "cell_type": "code",
   "execution_count": null,
   "metadata": {},
   "outputs": [],
   "source": [
    "pip list"
   ]
  },
  {
   "cell_type": "code",
   "execution_count": null,
   "metadata": {},
   "outputs": [],
   "source": [
    "name='Python is \"fantastic\"'\n",
    "# string Repeatation\n",
    "name*100"
   ]
  },
  {
   "cell_type": "code",
   "execution_count": null,
   "metadata": {},
   "outputs": [],
   "source": [
    "# Slicing\n",
    "str2=str1[2:7]\n",
    "str2"
   ]
  },
  {
   "cell_type": "code",
   "execution_count": null,
   "metadata": {},
   "outputs": [],
   "source": [
    "name[-21:-5]"
   ]
  },
  {
   "cell_type": "code",
   "execution_count": null,
   "metadata": {},
   "outputs": [],
   "source": [
    "# format - format strings according to requirements\n",
    "age=36\n",
    "txt=\"hi i am john and my age is {}\"\n",
    "print(txt.format(age))\n",
    "q=12\n",
    "p=35\n",
    "ino=10\n",
    "order=\"i have ordered {1} items, each of {0} quantities with price {2}\"\n",
    "print(order.format(ino,q,p))\n",
    "name=\"vdf\"\n",
    "print(name.isalpha())"
   ]
  },
  {
   "cell_type": "code",
   "execution_count": null,
   "metadata": {},
   "outputs": [],
   "source": [
    "# boolean has two values  -True or false\n",
    "print(10>3)\n",
    "print(4<=67)\n",
    "print(5<2)"
   ]
  },
  {
   "cell_type": "code",
   "execution_count": null,
   "metadata": {},
   "outputs": [],
   "source": [
    "print(bool(-54))\n",
    "print(bool(\"hi\"))\n",
    "print(bool(\"hi ncjsdbfj\"))\n",
    "print(bool(\"\"))\n",
    "print(bool(\" \"))"
   ]
  },
  {
   "cell_type": "markdown",
   "metadata": {},
   "source": [
    "## Arrithmetic Operators"
   ]
  },
  {
   "cell_type": "code",
   "execution_count": null,
   "metadata": {},
   "outputs": [],
   "source": [
    "name=input(\"Enter your name:\")\n",
    "print(\"Welcome \"+name+\" We are learning arrithmetic operators..\")\n",
    "num1=int(input(\"Enter Number1:\"))\n",
    "num2=int(input(\"Enter Number2:\"))\n",
    "print(\"Addition is:\",num1+num2)\n",
    "print(\"Subtraction is:\",num1-num2)\n",
    "print(\"Multiplication is:\",num1*num2)\n",
    "print(\"Division is:\",num1/num2)\n",
    "print(\"Remainder is:\",num1%num2)\n",
    "print(\"Exponentiation is:\",num1**num2)\n",
    "print(\"Floor Division is:\",num1//num2)"
   ]
  },
  {
   "cell_type": "markdown",
   "metadata": {},
   "source": [
    "### List"
   ]
  },
  {
   "cell_type": "code",
   "execution_count": null,
   "metadata": {},
   "outputs": [],
   "source": [
    "# Creation of List\n",
    "\t\n",
    "# Creating a List\n",
    "List = []\n",
    "print(\"Intial blank List: \")\n",
    "print(List)\n",
    "\t\n",
    "    "
   ]
  },
  {
   "cell_type": "code",
   "execution_count": null,
   "metadata": {},
   "outputs": [],
   "source": [
    "# Creating a List with\n",
    "# the use of a String\n",
    "List = ['Welcome']\n",
    "print(\"\\nList with the use of String: \")\n",
    "print(List)\n",
    "\t"
   ]
  },
  {
   "cell_type": "code",
   "execution_count": null,
   "metadata": {},
   "outputs": [],
   "source": [
    "# Creating a List with\n",
    "# the use of multiple values\n",
    "List = [\"Welcome\", \"To\", \"Python\"]\n",
    "print(\"\\nList containing multiple values: \")\n",
    "print(List[0])\n",
    "print(List[2])\n",
    "\t"
   ]
  },
  {
   "cell_type": "code",
   "execution_count": null,
   "metadata": {},
   "outputs": [],
   "source": [
    "# Creating a Multi-Dimensional List\n",
    "# (By Nesting a list inside a List)\n",
    "List = [['Welcome', 'To'], ['Python']]\n",
    "print(\"\\nMulti-Dimensional List: \")\n",
    "print(List)"
   ]
  },
  {
   "cell_type": "code",
   "execution_count": null,
   "metadata": {},
   "outputs": [],
   "source": [
    "String1 = 'Welcome to Python World'\n",
    "print(\"String with the use of Single Quotes: \") \n",
    "print(String1) \n",
    "    \n",
    "# Creating a String \n",
    "# with double Quotes \n",
    "String1 = \"Welcome to Python's World\"\n",
    "print(\"\\nString with the use of Double Quotes: \") \n",
    "print(String1) \n",
    "print(type(String1))\n",
    "    \n",
    "# Creating a String \n",
    "# with triple Quotes \n",
    "String1 = '''Welcome to the World of \"Python\"'''\n",
    "print(\"\\nString with the use of Triple Quotes: \") \n",
    "print(String1) \n",
    "print(type(String1))\n",
    "  \n",
    "# Creating String with triple \n",
    "# Quotes allows multiple lines \n",
    "String1 = '''Welcome  \n",
    "            To \n",
    "            Python'''\n",
    "print(\"\\nCreating a multiline String: \") \n",
    "print(String1)"
   ]
  },
  {
   "cell_type": "markdown",
   "metadata": {},
   "source": [
    "### Conditional Statements"
   ]
  },
  {
   "cell_type": "code",
   "execution_count": null,
   "metadata": {},
   "outputs": [],
   "source": [
    "# Condition with if statement\n",
    "a = 33\n",
    "b = 200\n",
    "if b > a:\n",
    "  print(\"b is greater than a\")"
   ]
  },
  {
   "cell_type": "code",
   "execution_count": null,
   "metadata": {},
   "outputs": [],
   "source": [
    "# elif statement\n",
    "a = 33\n",
    "b = 33\n",
    "if b > a:\n",
    "  print(\"b is greater than a\")\n",
    "elif a == b:\n",
    "  print(\"a and b are equal\")"
   ]
  },
  {
   "cell_type": "code",
   "execution_count": null,
   "metadata": {},
   "outputs": [],
   "source": [
    "# Else statement\n",
    "a = 200\n",
    "b = 33\n",
    "if b > a:\n",
    "  print(\"b is greater than a\")\n",
    "elif a == b:\n",
    "  print(\"a and b are equal\")\n",
    "else:\n",
    "  print(\"a is greater than b\")"
   ]
  },
  {
   "cell_type": "code",
   "execution_count": null,
   "metadata": {},
   "outputs": [],
   "source": [
    "# Else without elif \n",
    "a = 200\n",
    "b = 33\n",
    "if b > a:\n",
    "  print(\"b is greater than a\")\n",
    "else:\n",
    "  print(\"b is not greater than a\")"
   ]
  },
  {
   "cell_type": "code",
   "execution_count": null,
   "metadata": {},
   "outputs": [],
   "source": [
    "# If\n",
    "a = 200\n",
    "b = 33\n",
    "\n",
    "if a > b: print(\"a is greater than b\")"
   ]
  },
  {
   "cell_type": "code",
   "execution_count": null,
   "metadata": {},
   "outputs": [],
   "source": [
    "# If ... Else\n",
    "a = 2\n",
    "b = 330\n",
    "\n",
    "print(\"A\") if a > b else print(\"B\")"
   ]
  },
  {
   "cell_type": "markdown",
   "metadata": {},
   "source": [
    "### Loops"
   ]
  },
  {
   "cell_type": "code",
   "execution_count": null,
   "metadata": {},
   "outputs": [],
   "source": [
    "# for Loop\n",
    "fruits = [\"apple\", \"banana\", \"cherry\"]\n",
    "for x in fruits:\n",
    "  print(x)"
   ]
  },
  {
   "cell_type": "code",
   "execution_count": null,
   "metadata": {},
   "outputs": [],
   "source": [
    "# loop through string\n",
    "for x in \"banana\":\n",
    "  print(x)"
   ]
  },
  {
   "cell_type": "code",
   "execution_count": null,
   "metadata": {},
   "outputs": [],
   "source": [
    "# Break\n",
    "\n",
    "fruits = [\"apple\", \"banana\", \"cherry\"]\n",
    "for x in fruits:\n",
    "  print(x) \n",
    "  if x == \"banana\":\n",
    "    break"
   ]
  },
  {
   "cell_type": "code",
   "execution_count": null,
   "metadata": {},
   "outputs": [],
   "source": [
    "# Continue\n",
    "\n",
    "fruits = [\"apple\", \"banana\", \"cherry\"]\n",
    "for x in fruits:\n",
    "  if x == \"banana\":\n",
    "    continue\n",
    "  print(x)"
   ]
  },
  {
   "cell_type": "code",
   "execution_count": null,
   "metadata": {},
   "outputs": [],
   "source": [
    "# Range function\n",
    "\n",
    "for x in range(6):\n",
    "  print(x)"
   ]
  },
  {
   "cell_type": "code",
   "execution_count": null,
   "metadata": {},
   "outputs": [],
   "source": [
    "# else in for loop\n",
    "\n",
    "for x in range(6):\n",
    "  print(x)\n",
    "else:\n",
    "  print(\"Finally finished!\")"
   ]
  },
  {
   "cell_type": "code",
   "execution_count": null,
   "metadata": {},
   "outputs": [],
   "source": [
    "# Nested Loop\n",
    "\n",
    "adj = [\"red\", \"big\", \"tasty\"]\n",
    "fruits = [\"apple\", \"banana\", \"cherry\"]\n",
    "\n",
    "for x in adj:\n",
    "  for y in fruits:\n",
    "    print(x, y)"
   ]
  },
  {
   "cell_type": "code",
   "execution_count": null,
   "metadata": {},
   "outputs": [],
   "source": [
    "# Pass Statement\n",
    "\n",
    "for x in [0, 1, 2]:\n",
    "  pass"
   ]
  },
  {
   "cell_type": "markdown",
   "metadata": {},
   "source": [
    "### Packages in Python"
   ]
  },
  {
   "cell_type": "code",
   "execution_count": 1,
   "metadata": {},
   "outputs": [
    {
     "name": "stdout",
     "output_type": "stream",
     "text": [
      "Package                            Version            \n",
      "---------------------------------- -------------------\n",
      "absl-py                            0.11.0             \n",
      "afinn                              0.1                \n",
      "alabaster                          0.7.12             \n",
      "anaconda-client                    1.7.2              \n",
      "anaconda-navigator                 1.9.12             \n",
      "anaconda-project                   0.8.3              \n",
      "apyori                             1.1.2              \n",
      "asn1crypto                         1.2.0              \n",
      "astroid                            2.3.2              \n",
      "astropy                            3.2.3              \n",
      "astunparse                         1.6.3              \n",
      "atomicwrites                       1.3.0              \n",
      "attrs                              19.3.0             \n",
      "Babel                              2.7.0              \n",
      "backcall                           0.1.0              \n",
      "backports.functools-lru-cache      1.5                \n",
      "backports.os                       0.1.1              \n",
      "backports.shutil-get-terminal-size 1.0.0              \n",
      "backports.tempfile                 1.0                \n",
      "backports.weakref                  1.0.post1          \n",
      "beautifulsoup4                     4.8.1              \n",
      "bitarray                           1.0.1              \n",
      "bkcharts                           0.2                \n",
      "bleach                             3.1.0              \n",
      "bokeh                              1.4.0              \n",
      "boto                               2.49.0             \n",
      "Bottleneck                         1.2.1              \n",
      "cachetools                         4.2.1              \n",
      "certifi                            2020.12.5          \n",
      "cffi                               1.13.2             \n",
      "chardet                            3.0.4              \n",
      "Click                              7.0                \n",
      "cloudpickle                        1.2.2              \n",
      "clyent                             1.2.2              \n",
      "colorama                           0.4.1              \n",
      "comtypes                           1.1.7              \n",
      "conda                              4.10.0             \n",
      "conda-build                        3.18.8             \n",
      "conda-package-handling             1.6.0              \n",
      "conda-verify                       3.4.2              \n",
      "contextlib2                        0.6.0              \n",
      "cryptography                       2.8                \n",
      "cycler                             0.10.0             \n",
      "Cython                             0.29.13            \n",
      "cytoolz                            0.10.0             \n",
      "dask                               2.8.0              \n",
      "decorator                          4.4.1              \n",
      "defusedxml                         0.6.0              \n",
      "distributed                        2.8.0              \n",
      "docopt                             0.6.2              \n",
      "docutils                           0.15.2             \n",
      "entrypoints                        0.3                \n",
      "et-xmlfile                         1.0.1              \n",
      "fastcache                          1.1.0              \n",
      "filelock                           3.0.12             \n",
      "Flask                              1.1.1              \n",
      "flatbuffers                        1.12               \n",
      "fsspec                             0.6.0              \n",
      "future                             0.18.2             \n",
      "gast                               0.3.3              \n",
      "gevent                             1.4.0              \n",
      "glob2                              0.7                \n",
      "google-auth                        1.25.0             \n",
      "google-auth-oauthlib               0.4.2              \n",
      "google-pasta                       0.2.0              \n",
      "graphviz                           0.16               \n",
      "greenlet                           0.4.15             \n",
      "grpcio                             1.32.0             \n",
      "h5py                               2.10.0             \n",
      "HeapDict                           1.0.1              \n",
      "html5lib                           1.0.1              \n",
      "idna                               2.8                \n",
      "imageio                            2.6.1              \n",
      "imagesize                          1.1.0              \n",
      "importlib-metadata                 0.23               \n",
      "ipykernel                          5.1.3              \n",
      "ipython                            7.9.0              \n",
      "ipython-genutils                   0.2.0              \n",
      "ipywidgets                         7.5.1              \n",
      "isort                              4.3.21             \n",
      "itsdangerous                       1.1.0              \n",
      "jdcal                              1.4.1              \n",
      "jedi                               0.15.1             \n",
      "Jinja2                             2.10.3             \n",
      "joblib                             0.14.0             \n",
      "json5                              0.8.5              \n",
      "jsonschema                         3.1.1              \n",
      "jupyter                            1.0.0              \n",
      "jupyter-client                     5.3.4              \n",
      "jupyter-console                    6.0.0              \n",
      "jupyter-core                       4.6.1              \n",
      "jupyterlab                         1.1.4              \n",
      "jupyterlab-server                  1.0.6              \n",
      "Keras                              2.4.3              \n",
      "keras-efficientnets                0.1.7              \n",
      "Keras-Preprocessing                1.1.2              \n",
      "keyring                            18.0.0             \n",
      "kiwisolver                         1.1.0              \n",
      "lazy-object-proxy                  1.4.3              \n",
      "libarchive-c                       2.8                \n",
      "llvmlite                           0.29.0             \n",
      "locket                             0.2.0              \n",
      "lux                                0.8.2              \n",
      "lxml                               4.4.1              \n",
      "Markdown                           3.3.3              \n",
      "MarkupSafe                         1.1.1              \n",
      "matplotlib                         3.1.1              \n",
      "mccabe                             0.6.1              \n",
      "menuinst                           1.4.16             \n",
      "mistune                            0.8.4              \n",
      "mkl-fft                            1.0.15             \n",
      "mkl-random                         1.1.0              \n",
      "mkl-service                        2.3.0              \n",
      "mock                               3.0.5              \n",
      "more-itertools                     7.2.0              \n",
      "mpmath                             1.1.0              \n",
      "msgpack                            0.6.1              \n",
      "multidict                          5.1.0              \n",
      "multipledispatch                   0.6.0              \n",
      "navigator-updater                  0.2.1              \n",
      "nbconvert                          5.6.1              \n",
      "nbformat                           4.4.0              \n",
      "nbmerge                            0.0.4              \n",
      "networkx                           2.4                \n",
      "nltk                               3.4.5              \n",
      "nose                               1.3.7              \n",
      "notebook                           6.0.2              \n",
      "numba                              0.44.1             \n",
      "numexpr                            2.7.0              \n",
      "numpy                              1.19.5             \n",
      "numpydoc                           0.9.1              \n",
      "oauthlib                           3.1.0              \n",
      "olefile                            0.46               \n",
      "opencv-python                      4.5.1.48           \n",
      "openpyxl                           3.0.0              \n",
      "opt-einsum                         3.3.0              \n",
      "packaging                          19.2               \n",
      "pandas                             0.25.2             \n",
      "pandocfilters                      1.4.2              \n",
      "parso                              0.5.1              \n",
      "partd                              1.0.0              \n",
      "path.py                            12.0.1             \n",
      "pathlib2                           2.3.5              \n",
      "patsy                              0.5.1              \n",
      "pep8                               1.7.1              \n",
      "pickle5                            0.0.11             \n",
      "pickleshare                        0.7.5              \n",
      "Pillow                             6.2.1              \n",
      "pip                                19.3.1             \n",
      "pipreqs                            0.4.10             \n",
      "pkginfo                            1.5.0.1            \n",
      "pluggy                             0.13.0             \n",
      "ply                                3.11               \n",
      "prometheus-client                  0.7.1              \n",
      "prompt-toolkit                     2.0.10             \n",
      "protobuf                           3.14.0             \n",
      "psutil                             5.6.5              \n",
      "psycopg2                           2.8.6              \n",
      "pulsar                             2.0.2              \n",
      "pulsar-odm                         0.7.0              \n",
      "py                                 1.8.0              \n",
      "pyasn1                             0.4.8              \n",
      "pyasn1-modules                     0.2.8              \n",
      "pyclustering                       0.10.1.2           \n",
      "pycodestyle                        2.5.0              \n",
      "pycosat                            0.6.3              \n",
      "pycparser                          2.19               \n",
      "pycrypto                           2.6.1              \n",
      "pycurl                             7.43.0.3           \n",
      "pydotplus                          2.0.2              \n",
      "pyflakes                           2.1.1              \n",
      "pyforest                           1.1.0              \n",
      "Pygments                           2.4.2              \n",
      "PyJWT                              2.0.1              \n",
      "pylint                             2.4.3              \n",
      "pyodbc                             4.0.27             \n",
      "pyOpenSSL                          19.0.0             \n",
      "pyparsing                          2.4.4              \n",
      "pyreadline                         2.1                \n",
      "pyrsistent                         0.15.4             \n",
      "PySocks                            1.7.1              \n",
      "pytest                             5.2.2              \n",
      "pytest-arraydiff                   0.3                \n",
      "pytest-astropy                     0.5.0              \n",
      "pytest-doctestplus                 0.4.0              \n",
      "pytest-openfiles                   0.4.0              \n",
      "pytest-remotedata                  0.3.2              \n",
      "python-dateutil                    2.8.1              \n",
      "pytz                               2019.3             \n",
      "PyWavelets                         1.1.1              \n",
      "pywin32                            223                \n",
      "pywinpty                           0.5.5              \n",
      "PyYAML                             5.1.2              \n",
      "pyzmq                              18.1.0             \n",
      "QtAwesome                          0.6.0              \n",
      "qtconsole                          4.5.5              \n",
      "QtPy                               1.9.0              \n",
      "requests                           2.22.0             \n",
      "requests-oauthlib                  1.3.0              \n",
      "rope                               0.14.0             \n",
      "rsa                                4.7                \n",
      "ruamel-yaml                        0.15.46            \n",
      "scikit-image                       0.15.0             \n",
      "scikit-learn                       0.22               \n",
      "scipy                              1.3.1              \n",
      "seaborn                            0.9.0              \n",
      "Send2Trash                         1.5.0              \n",
      "setuptools                         41.6.0.post20191030\n",
      "simplegeneric                      0.8.1              \n",
      "singledispatch                     3.4.0.3            \n",
      "six                                1.15.0             \n",
      "sklearn                            0.0                \n",
      "snowballstemmer                    2.0.0              \n",
      "sortedcollections                  1.1.2              \n",
      "sortedcontainers                   2.1.0              \n",
      "soupsieve                          1.9.3              \n",
      "Sphinx                             2.2.1              \n",
      "sphinxcontrib-applehelp            1.0.1              \n",
      "sphinxcontrib-devhelp              1.0.1              \n",
      "sphinxcontrib-htmlhelp             1.0.2              \n",
      "sphinxcontrib-jsmath               1.0.1              \n",
      "sphinxcontrib-qthelp               1.0.2              \n",
      "sphinxcontrib-serializinghtml      1.1.3              \n",
      "sphinxcontrib-websupport           1.1.2              \n",
      "spyder                             3.3.6              \n",
      "spyder-kernels                     0.5.2              \n",
      "SQLAlchemy                         1.3.10             \n",
      "statsmodels                        0.10.1             \n",
      "sympy                              1.4                \n",
      "tables                             3.6.1              \n",
      "tblib                              1.5.0              \n",
      "tensorboard                        2.4.1              \n",
      "tensorboard-plugin-wit             1.8.0              \n",
      "tensorflow                         2.4.1              \n",
      "tensorflow-estimator               2.4.0              \n",
      "termcolor                          1.1.0              \n",
      "terminado                          0.8.2              \n",
      "testpath                           0.4.2              \n",
      "textblob                           0.15.3             \n",
      "toolz                              0.10.0             \n",
      "tornado                            6.0.3              \n",
      "tqdm                               4.36.1             \n",
      "traitlets                          4.3.3              \n",
      "typing-extensions                  3.7.4.3            \n",
      "unicodecsv                         0.14.1             \n",
      "urllib3                            1.24.2             \n",
      "wcwidth                            0.1.7              \n",
      "webencodings                       0.5.1              \n",
      "Werkzeug                           0.16.0             \n",
      "wheel                              0.36.2             \n",
      "widgetsnbextension                 3.5.1              \n",
      "win-inet-pton                      1.1.0              \n",
      "win-unicode-console                0.5                \n",
      "wincertstore                       0.2                \n",
      "wrapt                              1.12.1             \n",
      "xlrd                               1.2.0              \n",
      "XlsxWriter                         1.2.2              \n",
      "xlwings                            0.16.0             \n",
      "xlwt                               1.3.0              \n",
      "xmltodict                          0.12.0             \n",
      "yarg                               0.1.9              \n",
      "zict                               1.0.0              \n",
      "zipp                               0.6.0              \n",
      "Note: you may need to restart the kernel to use updated packages.\n"
     ]
    }
   ],
   "source": [
    "pip list"
   ]
  },
  {
   "cell_type": "code",
   "execution_count": 3,
   "metadata": {},
   "outputs": [
    {
     "name": "stdout",
     "output_type": "stream",
     "text": [
      "Requirement already satisfied: numpy in c:\\users\\administrator\\anaconda3\\lib\\site-packages (1.19.5)\n"
     ]
    }
   ],
   "source": [
    "# Install new packages in python\n",
    "!pip install numpy"
   ]
  },
  {
   "cell_type": "code",
   "execution_count": null,
   "metadata": {},
   "outputs": [],
   "source": [
    "# Remove packages in python\n",
    "!pip remove numpy"
   ]
  },
  {
   "cell_type": "code",
   "execution_count": 4,
   "metadata": {},
   "outputs": [
    {
     "name": "stdout",
     "output_type": "stream",
     "text": [
      "Name: numpy\n",
      "Version: 1.19.5\n",
      "Summary: NumPy is the fundamental package for array computing with Python.\n",
      "Home-page: https://www.numpy.org\n",
      "Author: Travis E. Oliphant et al.\n",
      "Author-email: None\n",
      "License: BSD\n",
      "Location: c:\\users\\administrator\\anaconda3\\lib\\site-packages\n",
      "Requires: \n",
      "Required-by: tensorflow, tensorboard, tables, statsmodels, seaborn, scikit-learn, PyWavelets, pytest-doctestplus, pytest-arraydiff, pyclustering, patsy, pandas, opt-einsum, opencv-python, numexpr, numba, mkl-random, mkl-fft, matplotlib, Keras, Keras-Preprocessing, imageio, h5py, Bottleneck, bokeh, bkcharts, astropy\n"
     ]
    }
   ],
   "source": [
    "# Show Info of packages in python\n",
    "!pip show numpy"
   ]
  },
  {
   "cell_type": "code",
   "execution_count": null,
   "metadata": {},
   "outputs": [],
   "source": []
  }
 ],
 "metadata": {
  "kernelspec": {
   "display_name": "Python 3",
   "language": "python",
   "name": "python3"
  },
  "language_info": {
   "codemirror_mode": {
    "name": "ipython",
    "version": 3
   },
   "file_extension": ".py",
   "mimetype": "text/x-python",
   "name": "python",
   "nbconvert_exporter": "python",
   "pygments_lexer": "ipython3",
   "version": "3.8.8"
  }
 },
 "nbformat": 4,
 "nbformat_minor": 2
}

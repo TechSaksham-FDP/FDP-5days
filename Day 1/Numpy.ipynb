{
 "cells": [
  {
   "cell_type": "markdown",
   "metadata": {},
   "source": [
    "#### Numpy\n",
    "- Numpy stands for Numerical Python\n",
    "- Basic and one of the most important library for numerical computations\n",
    "- Supports N-dimensional array objects that can be used for processing multidimensional data\n",
    "- Supports different data-types"
   ]
  },
  {
   "cell_type": "markdown",
   "metadata": {},
   "source": [
    "##### Using Numpy we can perform\n",
    "\n",
    "- Mathematical and logical operations on arrays\n",
    "- Fourier transforms\n",
    "- Linear algebra operations\n",
    "- Random number generation"
   ]
  },
  {
   "cell_type": "code",
   "execution_count": 3,
   "metadata": {},
   "outputs": [],
   "source": [
    "import numpy as np"
   ]
  },
  {
   "cell_type": "markdown",
   "metadata": {},
   "source": [
    "### How to Create arrray\n",
    "##### 1. using np.array method"
   ]
  },
  {
   "cell_type": "markdown",
   "metadata": {},
   "source": [
    "- Ordered collection of elements of basic data types of given length\n",
    "- Syntax: numpy.array(object)"
   ]
  },
  {
   "cell_type": "code",
   "execution_count": 4,
   "metadata": {},
   "outputs": [
    {
     "name": "stdout",
     "output_type": "stream",
     "text": [
      "[1 2 3 4 5 6]\n",
      "int32\n"
     ]
    }
   ],
   "source": [
    "array1=np.array([1,2,3,4,5,6])\n",
    "print(array1)\n",
    "type(array1)\n",
    "print(array1.dtype)"
   ]
  },
  {
   "cell_type": "code",
   "execution_count": 5,
   "metadata": {},
   "outputs": [
    {
     "name": "stdout",
     "output_type": "stream",
     "text": [
      "[1 2 3 4 6]\n"
     ]
    },
    {
     "data": {
      "text/plain": [
       "numpy.int32"
      ]
     },
     "execution_count": 5,
     "metadata": {},
     "output_type": "execute_result"
    }
   ],
   "source": [
    "array2=np.array([1,2,3,4,6])\n",
    "print(array2)\n",
    "type(array2[0])"
   ]
  },
  {
   "cell_type": "code",
   "execution_count": 6,
   "metadata": {},
   "outputs": [
    {
     "data": {
      "text/plain": [
       "numpy.ndarray"
      ]
     },
     "execution_count": 6,
     "metadata": {},
     "output_type": "execute_result"
    }
   ],
   "source": [
    "type(array2)"
   ]
  },
  {
   "cell_type": "code",
   "execution_count": 7,
   "metadata": {},
   "outputs": [
    {
     "name": "stdout",
     "output_type": "stream",
     "text": [
      "int32\n"
     ]
    }
   ],
   "source": [
    "print(array2.dtype)"
   ]
  },
  {
   "cell_type": "markdown",
   "metadata": {},
   "source": [
    "##### Important Note - \n",
    "- Arrray in python is collection of different datatype elements\n",
    "- All elements are coerced(converted) to same data type i.e conversion will be done of lower datatype elements to higher datatype elements"
   ]
  },
  {
   "cell_type": "code",
   "execution_count": 10,
   "metadata": {
    "scrolled": true
   },
   "outputs": [
    {
     "name": "stdout",
     "output_type": "stream",
     "text": [
      "['2' '3' '5.6' 'n']\n",
      "<class 'numpy.ndarray'>\n",
      "<class 'numpy.str_'>\n",
      "<class 'numpy.str_'>\n",
      "<class 'numpy.str_'>\n",
      "<class 'numpy.str_'>\n"
     ]
    }
   ],
   "source": [
    "arr1=np.array([2,3,5.6,'n'])\n",
    "print(arr1)\n",
    "print(type(arr1))\n",
    "print(type(arr1[0]))\n",
    "print(type(arr1[1]))\n",
    "print(type(arr1[2]))\n",
    "print(type(arr1[3]))"
   ]
  },
  {
   "cell_type": "markdown",
   "metadata": {},
   "source": [
    "#### 2. Generate arrays using arange( )\n",
    "- numpy.arange()- returns equally spaced numbers with in the given range based on step size\n",
    "- Syntax:numpy.arange(start,stop,step)\n",
    "- start - start of interval range\n",
    "- stop - end of interval range\n",
    "- step - step size of interval"
   ]
  },
  {
   "cell_type": "code",
   "execution_count": 13,
   "metadata": {},
   "outputs": [
    {
     "name": "stdout",
     "output_type": "stream",
     "text": [
      "[0 1 2 3 4 5 6 7 8 9]\n"
     ]
    }
   ],
   "source": [
    "a1=np.arange(10)\n",
    "print(a1)"
   ]
  },
  {
   "cell_type": "code",
   "execution_count": 15,
   "metadata": {},
   "outputs": [
    {
     "name": "stdout",
     "output_type": "stream",
     "text": [
      "[110 113 116 119]\n"
     ]
    }
   ],
   "source": [
    "a3=np.arange(start=110,stop=120,step=3)\n",
    "print(a3)"
   ]
  },
  {
   "cell_type": "markdown",
   "metadata": {},
   "source": [
    "- Create array of elements between 70 to 50 with 5 difference"
   ]
  },
  {
   "cell_type": "code",
   "execution_count": 16,
   "metadata": {},
   "outputs": [
    {
     "name": "stdout",
     "output_type": "stream",
     "text": [
      "[70 65 60 55]\n"
     ]
    }
   ],
   "source": [
    "a4=np.arange(start=70,stop=50,step=-5)\n",
    "print(a4)"
   ]
  },
  {
   "cell_type": "markdown",
   "metadata": {},
   "source": [
    "#### 3. Generate arrays using ones\n",
    "- numpy.ones()- returns an array of given shape and type filled with ones\n",
    "- Syntax:numpy.ones(shape,dtype)\n",
    "- shape - integer or sequence of integers\n",
    "- dtype - data type (default:float)"
   ]
  },
  {
   "cell_type": "code",
   "execution_count": 17,
   "metadata": {},
   "outputs": [
    {
     "name": "stdout",
     "output_type": "stream",
     "text": [
      "[1. 1. 1. 1. 1. 1.]\n"
     ]
    }
   ],
   "source": [
    "arr4= np.ones(6)\n",
    "print(arr4)"
   ]
  },
  {
   "cell_type": "code",
   "execution_count": 19,
   "metadata": {
    "scrolled": true
   },
   "outputs": [
    {
     "name": "stdout",
     "output_type": "stream",
     "text": [
      "[[1 1 1 1 1 1 1]\n",
      " [1 1 1 1 1 1 1]\n",
      " [1 1 1 1 1 1 1]]\n"
     ]
    }
   ],
   "source": [
    "arr5= np.ones((3,7),int)\n",
    "print(arr5)"
   ]
  },
  {
   "cell_type": "markdown",
   "metadata": {},
   "source": [
    "##### 4. Generate arrays using zeros\n",
    "- numpy.zeros()- returns an array of given shape and type filled with zeros\n",
    "- Syntax:numpy.zeros(shape,dtype)\n",
    "- shape - integer or sequence of integers\n",
    "- dtype - data type (default:float)"
   ]
  },
  {
   "cell_type": "code",
   "execution_count": 20,
   "metadata": {},
   "outputs": [
    {
     "name": "stdout",
     "output_type": "stream",
     "text": [
      "[0. 0. 0. 0. 0. 0.]\n"
     ]
    }
   ],
   "source": [
    "arr7= np.zeros(6)\n",
    "print(arr7)"
   ]
  },
  {
   "cell_type": "code",
   "execution_count": 21,
   "metadata": {},
   "outputs": [
    {
     "name": "stdout",
     "output_type": "stream",
     "text": [
      "[[0 0 0 0 0 0 0]\n",
      " [0 0 0 0 0 0 0]\n",
      " [0 0 0 0 0 0 0]]\n"
     ]
    }
   ],
   "source": [
    "arr8= np.zeros((3,7),int)\n",
    "print(arr8)"
   ]
  },
  {
   "cell_type": "markdown",
   "metadata": {},
   "source": [
    "#### 5. Generate arrays using random.rand( )\n",
    "- numpy.random.rand()- returns an array of given shape filled with random values\n",
    "- Syntax:numpy.random.rand(shape)\n",
    "- shape - integer or sequence of integers"
   ]
  },
  {
   "cell_type": "code",
   "execution_count": 22,
   "metadata": {},
   "outputs": [
    {
     "name": "stdout",
     "output_type": "stream",
     "text": [
      "[0.70769051 0.07959679 0.0270112  0.71593833 0.37244351]\n"
     ]
    }
   ],
   "source": [
    "# Create 1D array of 5 random elements between 0 to 1\n",
    "a10=np.random.rand(5)\n",
    "print(a10)"
   ]
  },
  {
   "cell_type": "code",
   "execution_count": 23,
   "metadata": {},
   "outputs": [
    {
     "name": "stdout",
     "output_type": "stream",
     "text": [
      "[[0.15214003 0.19708297 0.16276431 0.54359435 0.24557292]\n",
      " [0.61264025 0.01037342 0.90538903 0.76597091 0.31186085]\n",
      " [0.17024339 0.05469921 0.55749989 0.5305304  0.36007295]\n",
      " [0.06751719 0.94718553 0.81189866 0.72678939 0.8625538 ]\n",
      " [0.35917299 0.2026654  0.09913137 0.27899681 0.15080301]\n",
      " [0.40106968 0.42107051 0.14349022 0.19431558 0.53751132]\n",
      " [0.57772903 0.35364089 0.10264882 0.03296459 0.45056645]]\n"
     ]
    }
   ],
   "source": [
    "# Create 2D array of 35 random elements between 0 to 1\n",
    "a11=np.random.rand(7,5)\n",
    "print(a11)"
   ]
  },
  {
   "cell_type": "code",
   "execution_count": 24,
   "metadata": {},
   "outputs": [
    {
     "name": "stdout",
     "output_type": "stream",
     "text": [
      "[[144 146 110 132 131]\n",
      " [121 102 126 107 109]\n",
      " [132 100 144 126 110]\n",
      " [134 126 107 132 144]\n",
      " [106 144 125 106 115]\n",
      " [122 100 142 118 140]\n",
      " [108 133 103 107 127]]\n"
     ]
    }
   ],
   "source": [
    "# Create 2D array of 35 random int elements between 100 to 150\n",
    "a12=np.random.randint(100,150,(7,5))\n",
    "print(a12)"
   ]
  },
  {
   "cell_type": "markdown",
   "metadata": {},
   "source": [
    "1. Speed - Array is faster than list\n",
    "2. Memory Storage - Array takes less memory than list"
   ]
  },
  {
   "cell_type": "code",
   "execution_count": 31,
   "metadata": {},
   "outputs": [],
   "source": [
    "import time"
   ]
  },
  {
   "cell_type": "code",
   "execution_count": 32,
   "metadata": {},
   "outputs": [
    {
     "name": "stdout",
     "output_type": "stream",
     "text": [
      "0.011000394821166992\n"
     ]
    }
   ],
   "source": [
    "# Consider case for List\n",
    "py_list=[i for i in range(100000)]\n",
    "start=time.time()\n",
    "py_list=[i+2 for i in py_list]\n",
    "stop=time.time()\n",
    "print(stop-start)"
   ]
  },
  {
   "cell_type": "code",
   "execution_count": 33,
   "metadata": {},
   "outputs": [
    {
     "name": "stdout",
     "output_type": "stream",
     "text": [
      "0.002000093460083008\n"
     ]
    }
   ],
   "source": [
    "# Consider case for Numpy Array\n",
    "py_arr=np.array([i for i in range(1000000)])\n",
    "start=time.time()\n",
    "py_arr=py_arr+2\n",
    "stop=time.time()\n",
    "print(stop-start)"
   ]
  },
  {
   "cell_type": "markdown",
   "metadata": {},
   "source": [
    "##### Storage Space - "
   ]
  },
  {
   "cell_type": "code",
   "execution_count": 34,
   "metadata": {},
   "outputs": [],
   "source": [
    "import sys"
   ]
  },
  {
   "cell_type": "code",
   "execution_count": 35,
   "metadata": {},
   "outputs": [
    {
     "name": "stdout",
     "output_type": "stream",
     "text": [
      "<class 'numpy.ndarray'>\n",
      "100\n",
      "Total space taken by a1 is 400\n"
     ]
    }
   ],
   "source": [
    "a1=np.arange(100)\n",
    "print(type(a1))\n",
    "print(a1.size)\n",
    "print(\"Total space taken by a1 is\",a1.itemsize*100)"
   ]
  },
  {
   "cell_type": "code",
   "execution_count": 36,
   "metadata": {},
   "outputs": [],
   "source": [
    "l1=[i for i in range(100)]"
   ]
  },
  {
   "cell_type": "code",
   "execution_count": 37,
   "metadata": {},
   "outputs": [
    {
     "data": {
      "text/plain": [
       "100"
      ]
     },
     "execution_count": 37,
     "metadata": {},
     "output_type": "execute_result"
    }
   ],
   "source": [
    "len(l1)"
   ]
  },
  {
   "cell_type": "code",
   "execution_count": 38,
   "metadata": {},
   "outputs": [
    {
     "name": "stdout",
     "output_type": "stream",
     "text": [
      "Total size taken by l1 = 2400\n"
     ]
    }
   ],
   "source": [
    "print(\"Total size taken by l1 =\",sys.getsizeof(l1[0])*len(l1))"
   ]
  },
  {
   "cell_type": "markdown",
   "metadata": {},
   "source": [
    "- Operations"
   ]
  },
  {
   "cell_type": "markdown",
   "metadata": {},
   "source": [
    "Reshape - We can change shape of arrays"
   ]
  },
  {
   "cell_type": "code",
   "execution_count": 39,
   "metadata": {},
   "outputs": [
    {
     "name": "stdout",
     "output_type": "stream",
     "text": [
      "[[1 2 3 4]\n",
      " [6 7 8 9]]\n",
      "(2, 4)\n"
     ]
    }
   ],
   "source": [
    "a=np.array([[1,2,3,4],[6,7,8,9]])\n",
    "print(a)\n",
    "print(a.shape)"
   ]
  },
  {
   "cell_type": "code",
   "execution_count": 40,
   "metadata": {},
   "outputs": [
    {
     "name": "stdout",
     "output_type": "stream",
     "text": [
      "[[1 2]\n",
      " [3 4]\n",
      " [6 7]\n",
      " [8 9]]\n"
     ]
    }
   ],
   "source": [
    "b=a.reshape(4,2)\n",
    "print(b)"
   ]
  },
  {
   "cell_type": "code",
   "execution_count": 41,
   "metadata": {},
   "outputs": [
    {
     "data": {
      "text/plain": [
       "(4, 2)"
      ]
     },
     "execution_count": 41,
     "metadata": {},
     "output_type": "execute_result"
    }
   ],
   "source": [
    "b.shape"
   ]
  },
  {
   "cell_type": "markdown",
   "metadata": {},
   "source": [
    "##### Arrithmetic Operations in Numpy"
   ]
  },
  {
   "cell_type": "code",
   "execution_count": 55,
   "metadata": {},
   "outputs": [
    {
     "name": "stdout",
     "output_type": "stream",
     "text": [
      "[[1 2 3]\n",
      " [4 5 6]\n",
      " [7 8 9]]\n",
      "[[11 12 13]\n",
      " [14 15 16]\n",
      " [17 18 19]]\n"
     ]
    }
   ],
   "source": [
    "a1=np.array([[1,2,3],[4,5,6],[7,8,9]])\n",
    "a2=np.array([[11,12,13],[14,15,16],[17,18,19]])\n",
    "print(a1)\n",
    "print(a2)"
   ]
  },
  {
   "cell_type": "code",
   "execution_count": 56,
   "metadata": {},
   "outputs": [
    {
     "name": "stdout",
     "output_type": "stream",
     "text": [
      "addditon of a1 and a2 is\n",
      " [[12 14 16]\n",
      " [18 20 22]\n",
      " [24 26 28]]\n"
     ]
    }
   ],
   "source": [
    "print(\"addditon of a1 and a2 is\\n\",np.add(a1,a2))"
   ]
  },
  {
   "cell_type": "code",
   "execution_count": 57,
   "metadata": {},
   "outputs": [
    {
     "name": "stdout",
     "output_type": "stream",
     "text": [
      "subtract of a1 and a2 is\n",
      " [[-10 -10 -10]\n",
      " [-10 -10 -10]\n",
      " [-10 -10 -10]]\n"
     ]
    }
   ],
   "source": [
    "print(\"subtract of a1 and a2 is\\n\",np.subtract(a1,a2))"
   ]
  },
  {
   "cell_type": "code",
   "execution_count": 58,
   "metadata": {},
   "outputs": [
    {
     "name": "stdout",
     "output_type": "stream",
     "text": [
      "mul of a1 and a2 is\n",
      " [[ 11  24  39]\n",
      " [ 56  75  96]\n",
      " [119 144 171]]\n"
     ]
    }
   ],
   "source": [
    "print(\"mul of a1 and a2 is\\n\",np.multiply(a1,a2))"
   ]
  },
  {
   "cell_type": "code",
   "execution_count": 59,
   "metadata": {},
   "outputs": [
    {
     "name": "stdout",
     "output_type": "stream",
     "text": [
      "divide of a1 and a2 is\n",
      " [[11.          6.          4.33333333]\n",
      " [ 3.5         3.          2.66666667]\n",
      " [ 2.42857143  2.25        2.11111111]]\n"
     ]
    }
   ],
   "source": [
    "print(\"divide of a1 and a2 is\\n\",np.divide(a2,a1))"
   ]
  },
  {
   "cell_type": "code",
   "execution_count": 60,
   "metadata": {},
   "outputs": [
    {
     "name": "stdout",
     "output_type": "stream",
     "text": [
      "remainder of a1 and a2 is\n",
      " [[0 0 1]\n",
      " [2 0 4]\n",
      " [3 2 1]]\n"
     ]
    }
   ],
   "source": [
    "print(\"remainder of a1 and a2 is\\n\",np.remainder(a2,a1))"
   ]
  },
  {
   "cell_type": "markdown",
   "metadata": {},
   "source": [
    "#### Statistical Functions"
   ]
  },
  {
   "cell_type": "code",
   "execution_count": 3,
   "metadata": {},
   "outputs": [
    {
     "name": "stdout",
     "output_type": "stream",
     "text": [
      "-2 , 6\n"
     ]
    }
   ],
   "source": [
    "import numpy as np\n",
    "arr = np.array([[1,4,2],[3,4,6],[0,-2,5]])\n",
    "print(np.amin(arr),',',np.amax(arr))"
   ]
  },
  {
   "cell_type": "code",
   "execution_count": 5,
   "metadata": {},
   "outputs": [
    {
     "name": "stdout",
     "output_type": "stream",
     "text": [
      "Mean:  29.67\n",
      "Median:  10.0\n"
     ]
    }
   ],
   "source": [
    "a = np.array([5,4,7,10,2,34,54,98,53])\n",
    "print('Mean: ', round(np.mean(a),2))\n",
    "print('Median: ',np.median(a))"
   ]
  },
  {
   "cell_type": "code",
   "execution_count": 11,
   "metadata": {},
   "outputs": [
    {
     "name": "stdout",
     "output_type": "stream",
     "text": [
      "36.5\n"
     ]
    }
   ],
   "source": [
    "data = [32,36,46,47,56,69,75,79,88,89,91,92,93,96,97,101,105,112,116,122]\n",
    "Q1 = np.median(data[:10])\n",
    "Q3 = np.median(data[10:])\n",
    "IQR = Q3-Q1\n",
    "print(IQR)"
   ]
  },
  {
   "cell_type": "code",
   "execution_count": 12,
   "metadata": {},
   "outputs": [
    {
     "name": "stdout",
     "output_type": "stream",
     "text": [
      "36.5\n"
     ]
    }
   ],
   "source": [
    "Q1 =np.percentile(data, 25, interpolation = 'midpoint')\n",
    "Q3 =np.percentile(data, 75, interpolation = 'midpoint')\n",
    "IQR = Q3-Q1\n",
    "print(IQR)"
   ]
  }
 ],
 "metadata": {
  "kernelspec": {
   "display_name": "Python 3 (ipykernel)",
   "language": "python",
   "name": "python3"
  },
  "language_info": {
   "codemirror_mode": {
    "name": "ipython",
    "version": 3
   },
   "file_extension": ".py",
   "mimetype": "text/x-python",
   "name": "python",
   "nbconvert_exporter": "python",
   "pygments_lexer": "ipython3",
   "version": "3.9.12"
  }
 },
 "nbformat": 4,
 "nbformat_minor": 2
}

{
 "cells": [
  {
   "cell_type": "markdown",
   "metadata": {},
   "source": [
    "Keras is a powerful and easy-to-use free open source Python library for developing and evaluating deep learning models.\n",
    "\n",
    "It wraps the efficient numerical computation libraries Theano and TensorFlow and allows you to define and train neural network models in just a few lines of code"
   ]
  },
  {
   "cell_type": "markdown",
   "metadata": {},
   "source": [
    "#### Step 1. Load Data"
   ]
  },
  {
   "cell_type": "code",
   "execution_count": 1,
   "metadata": {},
   "outputs": [],
   "source": [
    "# first neural network with keras tutorial\n",
    "import pandas as pd\n",
    "from keras.models import Sequential\n",
    "from keras.layers import Dense"
   ]
  },
  {
   "cell_type": "code",
   "execution_count": 2,
   "metadata": {},
   "outputs": [],
   "source": [
    "# load the dataset\n",
    "df = pd.read_csv(\"https://raw.githubusercontent.com/mona-patra/FDP-5days/main/Day%204/diabetes.csv\")"
   ]
  },
  {
   "cell_type": "code",
   "execution_count": 3,
   "metadata": {
    "scrolled": true
   },
   "outputs": [
    {
     "data": {
      "text/html": [
       "<div>\n",
       "<style scoped>\n",
       "    .dataframe tbody tr th:only-of-type {\n",
       "        vertical-align: middle;\n",
       "    }\n",
       "\n",
       "    .dataframe tbody tr th {\n",
       "        vertical-align: top;\n",
       "    }\n",
       "\n",
       "    .dataframe thead th {\n",
       "        text-align: right;\n",
       "    }\n",
       "</style>\n",
       "<table border=\"1\" class=\"dataframe\">\n",
       "  <thead>\n",
       "    <tr style=\"text-align: right;\">\n",
       "      <th></th>\n",
       "      <th>Pregnancies</th>\n",
       "      <th>Glucose</th>\n",
       "      <th>BloodPressure</th>\n",
       "      <th>SkinThickness</th>\n",
       "      <th>Insulin</th>\n",
       "      <th>BMI</th>\n",
       "      <th>DiabetesPedigreeFunction</th>\n",
       "      <th>Age</th>\n",
       "      <th>Outcome</th>\n",
       "    </tr>\n",
       "  </thead>\n",
       "  <tbody>\n",
       "    <tr>\n",
       "      <th>0</th>\n",
       "      <td>6</td>\n",
       "      <td>148</td>\n",
       "      <td>72</td>\n",
       "      <td>35</td>\n",
       "      <td>0</td>\n",
       "      <td>33.6</td>\n",
       "      <td>0.627</td>\n",
       "      <td>50</td>\n",
       "      <td>1</td>\n",
       "    </tr>\n",
       "    <tr>\n",
       "      <th>1</th>\n",
       "      <td>1</td>\n",
       "      <td>85</td>\n",
       "      <td>66</td>\n",
       "      <td>29</td>\n",
       "      <td>0</td>\n",
       "      <td>26.6</td>\n",
       "      <td>0.351</td>\n",
       "      <td>31</td>\n",
       "      <td>0</td>\n",
       "    </tr>\n",
       "    <tr>\n",
       "      <th>2</th>\n",
       "      <td>8</td>\n",
       "      <td>183</td>\n",
       "      <td>64</td>\n",
       "      <td>0</td>\n",
       "      <td>0</td>\n",
       "      <td>23.3</td>\n",
       "      <td>0.672</td>\n",
       "      <td>32</td>\n",
       "      <td>1</td>\n",
       "    </tr>\n",
       "    <tr>\n",
       "      <th>3</th>\n",
       "      <td>1</td>\n",
       "      <td>89</td>\n",
       "      <td>66</td>\n",
       "      <td>23</td>\n",
       "      <td>94</td>\n",
       "      <td>28.1</td>\n",
       "      <td>0.167</td>\n",
       "      <td>21</td>\n",
       "      <td>0</td>\n",
       "    </tr>\n",
       "    <tr>\n",
       "      <th>4</th>\n",
       "      <td>0</td>\n",
       "      <td>137</td>\n",
       "      <td>40</td>\n",
       "      <td>35</td>\n",
       "      <td>168</td>\n",
       "      <td>43.1</td>\n",
       "      <td>2.288</td>\n",
       "      <td>33</td>\n",
       "      <td>1</td>\n",
       "    </tr>\n",
       "  </tbody>\n",
       "</table>\n",
       "</div>"
      ],
      "text/plain": [
       "   Pregnancies  Glucose  BloodPressure  SkinThickness  Insulin   BMI  \\\n",
       "0            6      148             72             35        0  33.6   \n",
       "1            1       85             66             29        0  26.6   \n",
       "2            8      183             64              0        0  23.3   \n",
       "3            1       89             66             23       94  28.1   \n",
       "4            0      137             40             35      168  43.1   \n",
       "\n",
       "   DiabetesPedigreeFunction  Age  Outcome  \n",
       "0                     0.627   50        1  \n",
       "1                     0.351   31        0  \n",
       "2                     0.672   32        1  \n",
       "3                     0.167   21        0  \n",
       "4                     2.288   33        1  "
      ]
     },
     "execution_count": 3,
     "metadata": {},
     "output_type": "execute_result"
    }
   ],
   "source": [
    "df.head()"
   ]
  },
  {
   "cell_type": "code",
   "execution_count": 4,
   "metadata": {},
   "outputs": [
    {
     "data": {
      "text/plain": [
       "Index(['Pregnancies', 'Glucose', 'BloodPressure', 'SkinThickness', 'Insulin',\n",
       "       'BMI', 'DiabetesPedigreeFunction', 'Age', 'Outcome'],\n",
       "      dtype='object')"
      ]
     },
     "execution_count": 4,
     "metadata": {},
     "output_type": "execute_result"
    }
   ],
   "source": [
    "df.columns"
   ]
  },
  {
   "cell_type": "code",
   "execution_count": 5,
   "metadata": {},
   "outputs": [],
   "source": [
    "# split into input (X) and output (y) variables\n",
    "X = df.drop(['Outcome'], axis = 1)\n",
    "y = df[\"Outcome\"]"
   ]
  },
  {
   "cell_type": "code",
   "execution_count": 6,
   "metadata": {},
   "outputs": [],
   "source": [
    "# Split dataset into training set and test set\n",
    "from sklearn.model_selection import train_test_split # Import train_test_split function\n",
    "X_train, X_test, y_train, y_test = train_test_split(X, y, test_size=0.3, random_state=1) # 70% training and 30% test"
   ]
  },
  {
   "cell_type": "markdown",
   "metadata": {},
   "source": [
    "#### Step 2. Define Keras Model"
   ]
  },
  {
   "cell_type": "markdown",
   "metadata": {},
   "source": [
    "Models in Keras are defined as a sequence of layers.\n",
    "\n",
    "We create a Sequential model and add layers one at a time until we are happy with our network architecture.\n",
    "\n",
    "The first thing to get right is to ensure the input layer has the right number of input features. This can be specified when creating the first layer with the input_dim argument and setting it to 8 for the 8 input variables.\n",
    "\n",
    "How do we know the number of layers and their types?\n",
    "\n",
    "This is a very hard question. There are heuristics that we can use and often the best network structure is found through a process of trial and error experimentation (I explain more about this here). Generally, you need a network large enough to capture the structure of the problem."
   ]
  },
  {
   "cell_type": "markdown",
   "metadata": {},
   "source": [
    "In this example, we will use a fully-connected network structure with three layers.\n",
    "\n",
    "Fully connected layers are defined using the Dense class. We can specify the number of neurons or nodes in the layer as the first argument, and specify the activation function using the activation argument.\n",
    "\n",
    "We will use the rectified linear unit activation function referred to as ReLU on the first two layers and the Sigmoid function in the output layer.\n",
    "\n",
    "It used to be the case that Sigmoid and Tanh activation functions were preferred for all layers. These days, better performance is achieved using the ReLU activation function. We use a sigmoid on the output layer to ensure our network output is between 0 and 1 and easy to map to either a probability of class 1 or snap to a hard classification of either class with a default threshold of 0.5."
   ]
  },
  {
   "cell_type": "markdown",
   "metadata": {},
   "source": [
    "We can piece it all together by adding each layer:\n",
    "\n",
    "The model expects rows of data with 8 variables (the input_dim=8 argument)\n",
    "The first hidden layer has 12 nodes and uses the relu activation function.\n",
    "The second hidden layer has 8 nodes and uses the relu activation function.\n",
    "The output layer has one node and uses the sigmoid activation function."
   ]
  },
  {
   "cell_type": "code",
   "execution_count": 7,
   "metadata": {},
   "outputs": [],
   "source": [
    "# define the keras model\n",
    "model = Sequential()\n",
    "model.add(Dense(12, input_dim=8, activation='relu'))\n",
    "#model.add(Dense(8, activation='relu'))\n",
    "model.add(Dense(1, activation='sigmoid'))"
   ]
  },
  {
   "cell_type": "markdown",
   "metadata": {},
   "source": [
    "Note, the most confusing thing here is that the shape of the input to the model is defined as an argument on the first hidden layer. This means that the line of code that adds the first Dense layer is doing 2 things, defining the input or visible layer and the first hidden layer."
   ]
  },
  {
   "cell_type": "markdown",
   "metadata": {},
   "source": [
    "#### Step 3. Compile Keras Model"
   ]
  },
  {
   "cell_type": "markdown",
   "metadata": {},
   "source": [
    "Compiling the model uses the efficient numerical libraries under the covers (the so-called backend) such as Theano or TensorFlow. The backend automatically chooses the best way to represent the network for training and making predictions to run on your hardware, such as CPU or GPU or even distributed.\n",
    "\n",
    "When compiling, we must specify some additional properties required when training the network. Remember training a network means finding the best set of weights to map inputs to outputs in our dataset.\n",
    "\n",
    "We must specify the loss function to use to evaluate a set of weights, the optimizer is used to search through different weights for the network and any optional metrics we would like to collect and report during training.\n",
    "\n",
    "In this case, we will use cross entropy as the loss argument. This loss is for a binary classification problems and is defined in Keras as “binary_crossentropy“"
   ]
  },
  {
   "cell_type": "markdown",
   "metadata": {},
   "source": [
    "We will define the optimizer as the efficient stochastic gradient descent algorithm “adam“. This is a popular version of gradient descent because it automatically tunes itself and gives good results in a wide range of problems."
   ]
  },
  {
   "cell_type": "markdown",
   "metadata": {},
   "source": [
    "Finally, because it is a classification problem, we will collect and report the classification accuracy, defined via the metrics argument"
   ]
  },
  {
   "cell_type": "code",
   "execution_count": 8,
   "metadata": {},
   "outputs": [],
   "source": [
    "# compile the keras model\n",
    "model.compile(loss='binary_crossentropy', optimizer='adam', metrics=['accuracy'])"
   ]
  },
  {
   "cell_type": "markdown",
   "metadata": {},
   "source": [
    "#### Step 4. Fit Keras Model"
   ]
  },
  {
   "cell_type": "markdown",
   "metadata": {},
   "source": [
    "We can train or fit our model on our loaded data by calling the fit() function on the model.\n",
    "\n",
    "Training occurs over epochs and each epoch is split into batches.\n",
    "\n",
    "Epoch: One pass through all of the rows in the training dataset.\n",
    "Batch: One or more samples considered by the model within an epoch before weights are updated."
   ]
  },
  {
   "cell_type": "markdown",
   "metadata": {},
   "source": [
    "For this problem, we will run for a small number of epochs (150) and use a relatively small batch size of 10.\n",
    "\n",
    "These configurations can be chosen experimentally by trial and error. We want to train the model enough so that it learns a good (or good enough) mapping of rows of input data to the output classification. The model will always have some error, but the amount of error will level out after some point for a given model configuration. This is called model convergence"
   ]
  },
  {
   "cell_type": "code",
   "execution_count": 9,
   "metadata": {},
   "outputs": [
    {
     "name": "stdout",
     "output_type": "stream",
     "text": [
      "Epoch 1/150\n",
      "17/17 [==============================] - 0s 1ms/step - loss: 1.8155 - accuracy: 0.5009\n",
      "Epoch 2/150\n",
      "17/17 [==============================] - 0s 1ms/step - loss: 1.4105 - accuracy: 0.5289\n",
      "Epoch 3/150\n",
      "17/17 [==============================] - 0s 1ms/step - loss: 1.1909 - accuracy: 0.5438\n",
      "Epoch 4/150\n",
      "17/17 [==============================] - 0s 1ms/step - loss: 1.0722 - accuracy: 0.5736\n",
      "Epoch 5/150\n",
      "17/17 [==============================] - 0s 1ms/step - loss: 0.9927 - accuracy: 0.5773\n",
      "Epoch 6/150\n",
      "17/17 [==============================] - 0s 1ms/step - loss: 0.9240 - accuracy: 0.5978\n",
      "Epoch 7/150\n",
      "17/17 [==============================] - 0s 2ms/step - loss: 0.8540 - accuracy: 0.6071\n",
      "Epoch 8/150\n",
      "17/17 [==============================] - 0s 2ms/step - loss: 0.8150 - accuracy: 0.6182\n",
      "Epoch 9/150\n",
      "17/17 [==============================] - 0s 2ms/step - loss: 0.7666 - accuracy: 0.6425\n",
      "Epoch 10/150\n",
      "17/17 [==============================] - 0s 1ms/step - loss: 0.7352 - accuracy: 0.6462\n",
      "Epoch 11/150\n",
      "17/17 [==============================] - 0s 1ms/step - loss: 0.7161 - accuracy: 0.6518\n",
      "Epoch 12/150\n",
      "17/17 [==============================] - 0s 1ms/step - loss: 0.6945 - accuracy: 0.6425\n",
      "Epoch 13/150\n",
      "17/17 [==============================] - 0s 1ms/step - loss: 0.6680 - accuracy: 0.6443\n",
      "Epoch 14/150\n",
      "17/17 [==============================] - 0s 2ms/step - loss: 0.6739 - accuracy: 0.6425\n",
      "Epoch 15/150\n",
      "17/17 [==============================] - 0s 2ms/step - loss: 0.6442 - accuracy: 0.6741\n",
      "Epoch 16/150\n",
      "17/17 [==============================] - 0s 1ms/step - loss: 0.6357 - accuracy: 0.6592\n",
      "Epoch 17/150\n",
      "17/17 [==============================] - 0s 1ms/step - loss: 0.6287 - accuracy: 0.6704\n",
      "Epoch 18/150\n",
      "17/17 [==============================] - 0s 2ms/step - loss: 0.6170 - accuracy: 0.6816\n",
      "Epoch 19/150\n",
      "17/17 [==============================] - 0s 2ms/step - loss: 0.6114 - accuracy: 0.6723\n",
      "Epoch 20/150\n",
      "17/17 [==============================] - 0s 1ms/step - loss: 0.6156 - accuracy: 0.6797\n",
      "Epoch 21/150\n",
      "17/17 [==============================] - 0s 2ms/step - loss: 0.6098 - accuracy: 0.6760\n",
      "Epoch 22/150\n",
      "17/17 [==============================] - 0s 2ms/step - loss: 0.6151 - accuracy: 0.6704\n",
      "Epoch 23/150\n",
      "17/17 [==============================] - 0s 2ms/step - loss: 0.5982 - accuracy: 0.6778\n",
      "Epoch 24/150\n",
      "17/17 [==============================] - 0s 1ms/step - loss: 0.6058 - accuracy: 0.6648\n",
      "Epoch 25/150\n",
      "17/17 [==============================] - 0s 2ms/step - loss: 0.6116 - accuracy: 0.6778\n",
      "Epoch 26/150\n",
      "17/17 [==============================] - 0s 2ms/step - loss: 0.5965 - accuracy: 0.6946\n",
      "Epoch 27/150\n",
      "17/17 [==============================] - 0s 1ms/step - loss: 0.5912 - accuracy: 0.6927\n",
      "Epoch 28/150\n",
      "17/17 [==============================] - 0s 2ms/step - loss: 0.5899 - accuracy: 0.6965\n",
      "Epoch 29/150\n",
      "17/17 [==============================] - 0s 2ms/step - loss: 0.5948 - accuracy: 0.6574\n",
      "Epoch 30/150\n",
      "17/17 [==============================] - 0s 2ms/step - loss: 0.5952 - accuracy: 0.6760\n",
      "Epoch 31/150\n",
      "17/17 [==============================] - 0s 1ms/step - loss: 0.5865 - accuracy: 0.7151\n",
      "Epoch 32/150\n",
      "17/17 [==============================] - 0s 1ms/step - loss: 0.6117 - accuracy: 0.6741\n",
      "Epoch 33/150\n",
      "17/17 [==============================] - 0s 2ms/step - loss: 0.6016 - accuracy: 0.6741\n",
      "Epoch 34/150\n",
      "17/17 [==============================] - 0s 2ms/step - loss: 0.5798 - accuracy: 0.6872\n",
      "Epoch 35/150\n",
      "17/17 [==============================] - 0s 2ms/step - loss: 0.5815 - accuracy: 0.6927\n",
      "Epoch 36/150\n",
      "17/17 [==============================] - 0s 1ms/step - loss: 0.5795 - accuracy: 0.6872\n",
      "Epoch 37/150\n",
      "17/17 [==============================] - 0s 2ms/step - loss: 0.5878 - accuracy: 0.6965\n",
      "Epoch 38/150\n",
      "17/17 [==============================] - 0s 2ms/step - loss: 0.5771 - accuracy: 0.6760\n",
      "Epoch 39/150\n",
      "17/17 [==============================] - 0s 1ms/step - loss: 0.5699 - accuracy: 0.7132\n",
      "Epoch 40/150\n",
      "17/17 [==============================] - 0s 2ms/step - loss: 0.5782 - accuracy: 0.6872\n",
      "Epoch 41/150\n",
      "17/17 [==============================] - 0s 2ms/step - loss: 0.5742 - accuracy: 0.7002\n",
      "Epoch 42/150\n",
      "17/17 [==============================] - 0s 2ms/step - loss: 0.6005 - accuracy: 0.6890\n",
      "Epoch 43/150\n",
      "17/17 [==============================] - 0s 1ms/step - loss: 0.5659 - accuracy: 0.7095\n",
      "Epoch 44/150\n",
      "17/17 [==============================] - 0s 2ms/step - loss: 0.5697 - accuracy: 0.7132\n",
      "Epoch 45/150\n",
      "17/17 [==============================] - 0s 2ms/step - loss: 0.5730 - accuracy: 0.6797\n",
      "Epoch 46/150\n",
      "17/17 [==============================] - 0s 2ms/step - loss: 0.5795 - accuracy: 0.6834\n",
      "Epoch 47/150\n",
      "17/17 [==============================] - 0s 1ms/step - loss: 0.5749 - accuracy: 0.6983\n",
      "Epoch 48/150\n",
      "17/17 [==============================] - 0s 2ms/step - loss: 0.5630 - accuracy: 0.7002\n",
      "Epoch 49/150\n",
      "17/17 [==============================] - 0s 2ms/step - loss: 0.5613 - accuracy: 0.7020\n",
      "Epoch 50/150\n",
      "17/17 [==============================] - 0s 2ms/step - loss: 0.5756 - accuracy: 0.7020\n",
      "Epoch 51/150\n",
      "17/17 [==============================] - 0s 1ms/step - loss: 0.5702 - accuracy: 0.6983\n",
      "Epoch 52/150\n",
      "17/17 [==============================] - 0s 1ms/step - loss: 0.5596 - accuracy: 0.7132\n",
      "Epoch 53/150\n",
      "17/17 [==============================] - 0s 2ms/step - loss: 0.5963 - accuracy: 0.6816\n",
      "Epoch 54/150\n",
      "17/17 [==============================] - 0s 2ms/step - loss: 0.5773 - accuracy: 0.6909\n",
      "Epoch 55/150\n",
      "17/17 [==============================] - 0s 1ms/step - loss: 0.5690 - accuracy: 0.7076\n",
      "Epoch 56/150\n",
      "17/17 [==============================] - 0s 1ms/step - loss: 0.5636 - accuracy: 0.6909\n",
      "Epoch 57/150\n",
      "17/17 [==============================] - 0s 1ms/step - loss: 0.5638 - accuracy: 0.6853\n",
      "Epoch 58/150\n",
      "17/17 [==============================] - 0s 1ms/step - loss: 0.5643 - accuracy: 0.7058\n",
      "Epoch 59/150\n",
      "17/17 [==============================] - 0s 2ms/step - loss: 0.5694 - accuracy: 0.7095\n",
      "Epoch 60/150\n",
      "17/17 [==============================] - 0s 1ms/step - loss: 0.5582 - accuracy: 0.7076\n",
      "Epoch 61/150\n",
      "17/17 [==============================] - 0s 1ms/step - loss: 0.5592 - accuracy: 0.7188\n",
      "Epoch 62/150\n",
      "17/17 [==============================] - 0s 1ms/step - loss: 0.5596 - accuracy: 0.7076\n",
      "Epoch 63/150\n",
      "17/17 [==============================] - 0s 1ms/step - loss: 0.5575 - accuracy: 0.6983\n",
      "Epoch 64/150\n",
      "17/17 [==============================] - 0s 1ms/step - loss: 0.5606 - accuracy: 0.7207\n",
      "Epoch 65/150\n",
      "17/17 [==============================] - 0s 1ms/step - loss: 0.5575 - accuracy: 0.7095\n",
      "Epoch 66/150\n",
      "17/17 [==============================] - 0s 1ms/step - loss: 0.5579 - accuracy: 0.7188\n",
      "Epoch 67/150\n",
      "17/17 [==============================] - 0s 1ms/step - loss: 0.5513 - accuracy: 0.7151\n",
      "Epoch 68/150\n",
      "17/17 [==============================] - 0s 1ms/step - loss: 0.5610 - accuracy: 0.7207\n",
      "Epoch 69/150\n",
      "17/17 [==============================] - 0s 2ms/step - loss: 0.5507 - accuracy: 0.7207\n",
      "Epoch 70/150\n",
      "17/17 [==============================] - 0s 1ms/step - loss: 0.5577 - accuracy: 0.7114\n",
      "Epoch 71/150\n",
      "17/17 [==============================] - 0s 1ms/step - loss: 0.5647 - accuracy: 0.7132\n",
      "Epoch 72/150\n",
      "17/17 [==============================] - 0s 1ms/step - loss: 0.5536 - accuracy: 0.7132\n",
      "Epoch 73/150\n",
      "17/17 [==============================] - 0s 1ms/step - loss: 0.5521 - accuracy: 0.7169\n",
      "Epoch 74/150\n",
      "17/17 [==============================] - 0s 1ms/step - loss: 0.5532 - accuracy: 0.7188\n",
      "Epoch 75/150\n",
      "17/17 [==============================] - 0s 1ms/step - loss: 0.5559 - accuracy: 0.7132\n",
      "Epoch 76/150\n",
      "17/17 [==============================] - 0s 1ms/step - loss: 0.5668 - accuracy: 0.6965\n",
      "Epoch 77/150\n",
      "17/17 [==============================] - 0s 1ms/step - loss: 0.5565 - accuracy: 0.7169\n",
      "Epoch 78/150\n",
      "17/17 [==============================] - 0s 1ms/step - loss: 0.5536 - accuracy: 0.7430\n",
      "Epoch 79/150\n",
      "17/17 [==============================] - 0s 1ms/step - loss: 0.5503 - accuracy: 0.7095\n",
      "Epoch 80/150\n",
      "17/17 [==============================] - 0s 1ms/step - loss: 0.5449 - accuracy: 0.7244\n",
      "Epoch 81/150\n",
      "17/17 [==============================] - 0s 1ms/step - loss: 0.5466 - accuracy: 0.7281\n",
      "Epoch 82/150\n",
      "17/17 [==============================] - 0s 2ms/step - loss: 0.5429 - accuracy: 0.7318\n",
      "Epoch 83/150\n"
     ]
    },
    {
     "name": "stdout",
     "output_type": "stream",
     "text": [
      "17/17 [==============================] - 0s 1ms/step - loss: 0.5597 - accuracy: 0.7263\n",
      "Epoch 84/150\n",
      "17/17 [==============================] - 0s 2ms/step - loss: 0.5597 - accuracy: 0.7207\n",
      "Epoch 85/150\n",
      "17/17 [==============================] - 0s 1ms/step - loss: 0.5436 - accuracy: 0.7263\n",
      "Epoch 86/150\n",
      "17/17 [==============================] - 0s 1ms/step - loss: 0.5569 - accuracy: 0.7095\n",
      "Epoch 87/150\n",
      "17/17 [==============================] - 0s 1ms/step - loss: 0.5475 - accuracy: 0.7318\n",
      "Epoch 88/150\n",
      "17/17 [==============================] - 0s 1ms/step - loss: 0.5409 - accuracy: 0.7356\n",
      "Epoch 89/150\n",
      "17/17 [==============================] - 0s 1ms/step - loss: 0.5522 - accuracy: 0.7188\n",
      "Epoch 90/150\n",
      "17/17 [==============================] - 0s 1ms/step - loss: 0.5467 - accuracy: 0.7281\n",
      "Epoch 91/150\n",
      "17/17 [==============================] - 0s 1ms/step - loss: 0.5452 - accuracy: 0.7300\n",
      "Epoch 92/150\n",
      "17/17 [==============================] - 0s 1ms/step - loss: 0.5447 - accuracy: 0.7318\n",
      "Epoch 93/150\n",
      "17/17 [==============================] - 0s 1ms/step - loss: 0.5458 - accuracy: 0.7281\n",
      "Epoch 94/150\n",
      "17/17 [==============================] - 0s 1ms/step - loss: 0.5528 - accuracy: 0.7281\n",
      "Epoch 95/150\n",
      "17/17 [==============================] - 0s 1ms/step - loss: 0.5675 - accuracy: 0.6965\n",
      "Epoch 96/150\n",
      "17/17 [==============================] - 0s 1ms/step - loss: 0.5427 - accuracy: 0.7225\n",
      "Epoch 97/150\n",
      "17/17 [==============================] - 0s 2ms/step - loss: 0.5431 - accuracy: 0.7225\n",
      "Epoch 98/150\n",
      "17/17 [==============================] - 0s 1ms/step - loss: 0.5377 - accuracy: 0.7393\n",
      "Epoch 99/150\n",
      "17/17 [==============================] - 0s 1ms/step - loss: 0.5415 - accuracy: 0.7263\n",
      "Epoch 100/150\n",
      "17/17 [==============================] - 0s 1ms/step - loss: 0.5394 - accuracy: 0.7356\n",
      "Epoch 101/150\n",
      "17/17 [==============================] - 0s 1ms/step - loss: 0.5391 - accuracy: 0.7281\n",
      "Epoch 102/150\n",
      "17/17 [==============================] - 0s 2ms/step - loss: 0.5439 - accuracy: 0.7225\n",
      "Epoch 103/150\n",
      "17/17 [==============================] - 0s 1ms/step - loss: 0.5357 - accuracy: 0.7430\n",
      "Epoch 104/150\n",
      "17/17 [==============================] - 0s 1ms/step - loss: 0.5357 - accuracy: 0.7374\n",
      "Epoch 105/150\n",
      "17/17 [==============================] - 0s 1ms/step - loss: 0.5434 - accuracy: 0.7318\n",
      "Epoch 106/150\n",
      "17/17 [==============================] - 0s 1ms/step - loss: 0.5396 - accuracy: 0.7430\n",
      "Epoch 107/150\n",
      "17/17 [==============================] - 0s 1ms/step - loss: 0.5389 - accuracy: 0.7412\n",
      "Epoch 108/150\n",
      "17/17 [==============================] - 0s 1ms/step - loss: 0.5370 - accuracy: 0.7318\n",
      "Epoch 109/150\n",
      "17/17 [==============================] - 0s 1ms/step - loss: 0.5355 - accuracy: 0.7281\n",
      "Epoch 110/150\n",
      "17/17 [==============================] - 0s 1ms/step - loss: 0.5373 - accuracy: 0.7449\n",
      "Epoch 111/150\n",
      "17/17 [==============================] - 0s 1ms/step - loss: 0.5319 - accuracy: 0.7449\n",
      "Epoch 112/150\n",
      "17/17 [==============================] - 0s 1ms/step - loss: 0.5422 - accuracy: 0.7356\n",
      "Epoch 113/150\n",
      "17/17 [==============================] - 0s 1ms/step - loss: 0.5470 - accuracy: 0.7300\n",
      "Epoch 114/150\n",
      "17/17 [==============================] - 0s 1ms/step - loss: 0.5290 - accuracy: 0.7393\n",
      "Epoch 115/150\n",
      "17/17 [==============================] - 0s 1ms/step - loss: 0.5487 - accuracy: 0.7207\n",
      "Epoch 116/150\n",
      "17/17 [==============================] - 0s 1ms/step - loss: 0.5359 - accuracy: 0.7393\n",
      "Epoch 117/150\n",
      "17/17 [==============================] - 0s 1ms/step - loss: 0.5350 - accuracy: 0.7263\n",
      "Epoch 118/150\n",
      "17/17 [==============================] - 0s 1ms/step - loss: 0.5332 - accuracy: 0.7318\n",
      "Epoch 119/150\n",
      "17/17 [==============================] - 0s 1ms/step - loss: 0.5395 - accuracy: 0.7281\n",
      "Epoch 120/150\n",
      "17/17 [==============================] - 0s 1ms/step - loss: 0.5390 - accuracy: 0.7393\n",
      "Epoch 121/150\n",
      "17/17 [==============================] - 0s 1ms/step - loss: 0.5399 - accuracy: 0.7132\n",
      "Epoch 122/150\n",
      "17/17 [==============================] - 0s 1ms/step - loss: 0.5358 - accuracy: 0.7244\n",
      "Epoch 123/150\n",
      "17/17 [==============================] - 0s 1ms/step - loss: 0.5381 - accuracy: 0.7449\n",
      "Epoch 124/150\n",
      "17/17 [==============================] - 0s 2ms/step - loss: 0.5324 - accuracy: 0.7374\n",
      "Epoch 125/150\n",
      "17/17 [==============================] - 0s 2ms/step - loss: 0.5232 - accuracy: 0.7486\n",
      "Epoch 126/150\n",
      "17/17 [==============================] - 0s 1ms/step - loss: 0.5558 - accuracy: 0.7114\n",
      "Epoch 127/150\n",
      "17/17 [==============================] - 0s 2ms/step - loss: 0.5618 - accuracy: 0.7020\n",
      "Epoch 128/150\n",
      "17/17 [==============================] - 0s 2ms/step - loss: 0.5294 - accuracy: 0.7207\n",
      "Epoch 129/150\n",
      "17/17 [==============================] - 0s 2ms/step - loss: 0.5319 - accuracy: 0.7449\n",
      "Epoch 130/150\n",
      "17/17 [==============================] - 0s 2ms/step - loss: 0.5263 - accuracy: 0.7412\n",
      "Epoch 131/150\n",
      "17/17 [==============================] - 0s 1ms/step - loss: 0.5279 - accuracy: 0.7337\n",
      "Epoch 132/150\n",
      "17/17 [==============================] - 0s 2ms/step - loss: 0.5344 - accuracy: 0.7449\n",
      "Epoch 133/150\n",
      "17/17 [==============================] - 0s 1ms/step - loss: 0.5240 - accuracy: 0.7486\n",
      "Epoch 134/150\n",
      "17/17 [==============================] - 0s 1ms/step - loss: 0.5302 - accuracy: 0.7188\n",
      "Epoch 135/150\n",
      "17/17 [==============================] - 0s 2ms/step - loss: 0.5240 - accuracy: 0.7467\n",
      "Epoch 136/150\n",
      "17/17 [==============================] - 0s 2ms/step - loss: 0.5220 - accuracy: 0.7505\n",
      "Epoch 137/150\n",
      "17/17 [==============================] - 0s 2ms/step - loss: 0.5244 - accuracy: 0.7318\n",
      "Epoch 138/150\n",
      "17/17 [==============================] - 0s 1ms/step - loss: 0.5227 - accuracy: 0.7542\n",
      "Epoch 139/150\n",
      "17/17 [==============================] - 0s 1ms/step - loss: 0.5240 - accuracy: 0.7337\n",
      "Epoch 140/150\n",
      "17/17 [==============================] - 0s 1ms/step - loss: 0.5231 - accuracy: 0.7300\n",
      "Epoch 141/150\n",
      "17/17 [==============================] - 0s 2ms/step - loss: 0.5267 - accuracy: 0.7281\n",
      "Epoch 142/150\n",
      "17/17 [==============================] - 0s 1ms/step - loss: 0.5316 - accuracy: 0.7114\n",
      "Epoch 143/150\n",
      "17/17 [==============================] - 0s 1ms/step - loss: 0.5287 - accuracy: 0.7412\n",
      "Epoch 144/150\n",
      "17/17 [==============================] - 0s 1ms/step - loss: 0.5277 - accuracy: 0.7412\n",
      "Epoch 145/150\n",
      "17/17 [==============================] - 0s 1ms/step - loss: 0.5155 - accuracy: 0.7467\n",
      "Epoch 146/150\n",
      "17/17 [==============================] - 0s 1ms/step - loss: 0.5181 - accuracy: 0.7356\n",
      "Epoch 147/150\n",
      "17/17 [==============================] - 0s 1ms/step - loss: 0.5201 - accuracy: 0.7449\n",
      "Epoch 148/150\n",
      "17/17 [==============================] - 0s 1ms/step - loss: 0.5266 - accuracy: 0.7356\n",
      "Epoch 149/150\n",
      "17/17 [==============================] - 0s 1ms/step - loss: 0.5150 - accuracy: 0.7412\n",
      "Epoch 150/150\n",
      "17/17 [==============================] - 0s 1ms/step - loss: 0.5231 - accuracy: 0.7337\n"
     ]
    },
    {
     "data": {
      "text/plain": [
       "<keras.callbacks.History at 0x7fdf3c3d7f10>"
      ]
     },
     "execution_count": 9,
     "metadata": {},
     "output_type": "execute_result"
    }
   ],
   "source": [
    "# fit the keras model on the dataset\n",
    "model.fit(X_train, y_train, epochs=150)"
   ]
  },
  {
   "cell_type": "markdown",
   "metadata": {},
   "source": [
    "This is where the work happens on your CPU or GPU"
   ]
  },
  {
   "cell_type": "markdown",
   "metadata": {},
   "source": [
    "#### Step 5. Evaluate Keras Model"
   ]
  },
  {
   "cell_type": "markdown",
   "metadata": {},
   "source": [
    "You can evaluate your model on your training dataset using the evaluate() function on your model and pass it the same input and output used to train the model.\n",
    "\n",
    "This will generate a prediction for each input and output pair and collect scores, including the average loss and any metrics you have configured, such as accuracy.\n",
    "\n",
    "The evaluate() function will return a list with two values. The first will be the loss of the model on the dataset and the second will be the accuracy of the model on the dataset. We are only interested in reporting the accuracy, so we will ignore the loss value."
   ]
  },
  {
   "cell_type": "code",
   "execution_count": 10,
   "metadata": {},
   "outputs": [
    {
     "name": "stdout",
     "output_type": "stream",
     "text": [
      "17/17 [==============================] - 0s 761us/step - loss: 0.5133 - accuracy: 0.7467\n"
     ]
    },
    {
     "data": {
      "text/plain": [
       "[0.5132669806480408, 0.7467411756515503]"
      ]
     },
     "execution_count": 10,
     "metadata": {},
     "output_type": "execute_result"
    }
   ],
   "source": [
    "# evaluate the keras model on the training dataset\n",
    "model.evaluate(X_train, y_train)"
   ]
  },
  {
   "cell_type": "code",
   "execution_count": 11,
   "metadata": {},
   "outputs": [
    {
     "name": "stdout",
     "output_type": "stream",
     "text": [
      "8/8 [==============================] - 0s 896us/step - loss: 0.5829 - accuracy: 0.7446\n"
     ]
    },
    {
     "data": {
      "text/plain": [
       "[0.5829410552978516, 0.7445887327194214]"
      ]
     },
     "execution_count": 11,
     "metadata": {},
     "output_type": "execute_result"
    }
   ],
   "source": [
    "# evaluate the keras model on test dataset\n",
    "model.evaluate(X_test, y_test)"
   ]
  },
  {
   "cell_type": "markdown",
   "metadata": {},
   "source": [
    "#### Step 6. Make Predictions"
   ]
  },
  {
   "cell_type": "markdown",
   "metadata": {},
   "source": [
    "Making predictions is as easy as calling the predict() function on the model. We are using a sigmoid activation function on the output layer, so the predictions will be a probability in the range between 0 and 1. We can easily convert them into a crisp binary prediction for this classification task by rounding them."
   ]
  },
  {
   "cell_type": "code",
   "execution_count": 12,
   "metadata": {},
   "outputs": [
    {
     "name": "stdout",
     "output_type": "stream",
     "text": [
      "[[0.6715474 ]\n",
      " [0.6026068 ]\n",
      " [0.38425094]\n",
      " [0.0692136 ]\n",
      " [0.29578862]]\n"
     ]
    }
   ],
   "source": [
    "# make probability predictions with the model\n",
    "predictions = model.predict(X_test)\n",
    "print(predictions[:5])"
   ]
  },
  {
   "cell_type": "code",
   "execution_count": 13,
   "metadata": {},
   "outputs": [
    {
     "name": "stdout",
     "output_type": "stream",
     "text": [
      "[1, 1, 0, 0, 0, 0, 1, 0, 0, 0, 0, 0, 1, 1, 0, 1, 0, 0, 1, 1, 1, 0, 1, 0, 0, 0, 0, 1, 0, 1, 0, 1, 0, 1, 0, 1, 0, 0, 0, 1, 0, 0, 0, 0, 0, 0, 1, 1, 0, 0, 0, 0, 1, 0, 0, 0, 1, 0, 0, 1, 1, 0, 1, 0, 0, 0, 0, 0, 1, 1, 1, 0, 1, 0, 1, 0, 1, 0, 0, 1, 0, 0, 0, 0, 0, 0, 1, 0, 0, 1, 0, 0, 0, 0, 1, 1, 0, 0, 0, 0, 0, 1, 0, 0, 0, 0, 1, 1, 0, 0, 1, 0, 0, 0, 0, 0, 0, 1, 0, 0, 0, 1, 0, 0, 0, 0, 0, 0, 1, 0, 1, 0, 0, 1, 1, 1, 0, 1, 0, 0, 1, 0, 0, 1, 1, 1, 0, 0, 0, 0, 0, 1, 0, 0, 0, 1, 0, 0, 0, 0, 1, 1, 0, 0, 0, 0, 0, 1, 1, 0, 1, 1, 0, 0, 1, 0, 1, 0, 0, 0, 1, 0, 0, 1, 0, 0, 0, 0, 0, 0, 0, 0, 0, 0, 0, 0, 0, 0, 1, 1, 1, 0, 0, 0, 1, 1, 0, 0, 0, 1, 0, 1, 0, 0, 1, 0, 0, 0, 0, 1, 1, 1, 0, 1, 1, 0, 0, 1, 0, 1, 1]\n"
     ]
    }
   ],
   "source": [
    "# round predictions \n",
    "y_pred = [round(x[0]) for x in predictions]\n",
    "print(y_pred)"
   ]
  },
  {
   "cell_type": "code",
   "execution_count": 14,
   "metadata": {},
   "outputs": [
    {
     "name": "stdout",
     "output_type": "stream",
     "text": [
      "              precision    recall  f1-score   support\n",
      "\n",
      "           0       0.78      0.82      0.80       146\n",
      "           1       0.67      0.61      0.64        85\n",
      "\n",
      "    accuracy                           0.74       231\n",
      "   macro avg       0.73      0.72      0.72       231\n",
      "weighted avg       0.74      0.74      0.74       231\n",
      "\n"
     ]
    }
   ],
   "source": [
    "from sklearn.metrics import confusion_matrix , classification_report\n",
    "print(classification_report(y_test,y_pred))"
   ]
  },
  {
   "cell_type": "code",
   "execution_count": 15,
   "metadata": {},
   "outputs": [
    {
     "data": {
      "text/plain": [
       "Text(69.0, 0.5, 'Truth')"
      ]
     },
     "execution_count": 15,
     "metadata": {},
     "output_type": "execute_result"
    },
    {
     "data": {
      "image/png": "[encoded data removed]",
      "text/plain": [
       "<Figure size 720x504 with 2 Axes>"
      ]
     },
     "metadata": {
      "needs_background": "light"
     },
     "output_type": "display_data"
    }
   ],
   "source": [
    "import seaborn as sn\n",
    "import matplotlib.pyplot as plt\n",
    "cm = confusion_matrix(y_test,y_pred)\n",
    "\n",
    "plt.figure(figsize = (10,7))\n",
    "sn.heatmap(cm, annot=True, fmt='d')\n",
    "plt.xlabel('Predicted')\n",
    "plt.ylabel('Truth')"
   ]
  },
  {
   "cell_type": "code",
   "execution_count": null,
   "metadata": {},
   "outputs": [],
   "source": []
  }
 ],
 "metadata": {
  "kernelspec": {
   "display_name": "Python 3",
   "language": "python",
   "name": "python3"
  },
  "language_info": {
   "codemirror_mode": {
    "name": "ipython",
    "version": 3
   },
   "file_extension": ".py",
   "mimetype": "text/x-python",
   "name": "python",
   "nbconvert_exporter": "python",
   "pygments_lexer": "ipython3",
   "version": "3.8.8"
  }
 },
 "nbformat": 4,
 "nbformat_minor": 2
}

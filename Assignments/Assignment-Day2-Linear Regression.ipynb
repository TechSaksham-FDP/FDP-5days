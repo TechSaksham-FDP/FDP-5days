{
 "cells": [
  {
   "cell_type": "markdown",
   "id": "768d5733",
   "metadata": {},
   "source": [
    "# Take home Assignment"
   ]
  },
  {
   "cell_type": "markdown",
   "id": "8e7a3307",
   "metadata": {},
   "source": [
    "We have solved before a problem, where we had implemented linear regression with one feature and one target. \n",
    "\n",
    "However, in the real world, most machine learning problems require us to work with more than one feature.\n",
    "\n",
    "We will now consider the home loan approval dataset, where we will calculate an individual’s home loan eligibility, depending not only on the age of the person but also on the credit rating and other features.\n",
    "\n",
    "Therefore in order to determine  whether or not a person should be eligible for a home loan, you’ll have to collect multiple features, such as age, income, credit rating, number of dependents, etc.\n",
    "\n",
    "You have to work on this multiple regression"
   ]
  },
  {
   "cell_type": "markdown",
   "id": "3cb05afa",
   "metadata": {},
   "source": [
    "# Step 1: Import necessary libraries"
   ]
  },
  {
   "cell_type": "code",
   "execution_count": null,
   "id": "470ace7b",
   "metadata": {},
   "outputs": [],
   "source": []
  },
  {
   "cell_type": "markdown",
   "id": "0de698db",
   "metadata": {},
   "source": [
    "# Step 2: Reading the dataset"
   ]
  },
  {
   "cell_type": "code",
   "execution_count": null,
   "id": "d6a2855e",
   "metadata": {},
   "outputs": [],
   "source": [
    "df = pd.read_csv(\"https://raw.githubusercontent.com/mona-patra/FDP-5days/main/Day%202/loan-approval-dataset.csv\")"
   ]
  },
  {
   "cell_type": "markdown",
   "id": "c11a7ada",
   "metadata": {},
   "source": [
    "# Step 3: Understanding the dataset, finding shape of the dataset, info on the dataset, correlation among the variables etc."
   ]
  },
  {
   "cell_type": "code",
   "execution_count": null,
   "id": "2aabc16c",
   "metadata": {},
   "outputs": [],
   "source": []
  },
  {
   "cell_type": "code",
   "execution_count": null,
   "id": "2070a14c",
   "metadata": {},
   "outputs": [],
   "source": []
  },
  {
   "cell_type": "code",
   "execution_count": null,
   "id": "ca883870",
   "metadata": {},
   "outputs": [],
   "source": []
  },
  {
   "cell_type": "code",
   "execution_count": null,
   "id": "072b9200",
   "metadata": {},
   "outputs": [],
   "source": []
  },
  {
   "cell_type": "markdown",
   "id": "c7f93235",
   "metadata": {},
   "source": [
    "# Step 4: Defining the feature and the target variable, X and y, where"
   ]
  },
  {
   "cell_type": "code",
   "execution_count": null,
   "id": "a7ba6ccf",
   "metadata": {},
   "outputs": [],
   "source": [
    "X = df[['age','credit-rating','children']]\n",
    "y = df['loan-approval']"
   ]
  },
  {
   "cell_type": "markdown",
   "id": "eedf55ce",
   "metadata": {},
   "source": [
    "# Step 5:  Create Train and Test set"
   ]
  },
  {
   "cell_type": "code",
   "execution_count": null,
   "id": "3f07d7e8",
   "metadata": {},
   "outputs": [],
   "source": []
  },
  {
   "cell_type": "markdown",
   "id": "77413df3",
   "metadata": {},
   "source": [
    "# Step 6: Train your model"
   ]
  },
  {
   "cell_type": "code",
   "execution_count": null,
   "id": "7085ffbf",
   "metadata": {},
   "outputs": [],
   "source": []
  },
  {
   "cell_type": "markdown",
   "id": "7b4c4b4b",
   "metadata": {},
   "source": [
    "# Step 7: Evaluate the model"
   ]
  },
  {
   "cell_type": "code",
   "execution_count": null,
   "id": "2a7caf68",
   "metadata": {},
   "outputs": [],
   "source": []
  },
  {
   "cell_type": "code",
   "execution_count": null,
   "id": "59a06d5f",
   "metadata": {},
   "outputs": [],
   "source": []
  }
 ],
 "metadata": {
  "kernelspec": {
   "display_name": "Python 3",
   "language": "python",
   "name": "python3"
  },
  "language_info": {
   "codemirror_mode": {
    "name": "ipython",
    "version": 3
   },
   "file_extension": ".py",
   "mimetype": "text/x-python",
   "name": "python",
   "nbconvert_exporter": "python",
   "pygments_lexer": "ipython3",
   "version": "3.8.8"
  }
 },
 "nbformat": 4,
 "nbformat_minor": 5
}
